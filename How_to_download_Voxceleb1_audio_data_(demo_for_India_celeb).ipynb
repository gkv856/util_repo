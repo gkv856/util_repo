{
  "nbformat": 4,
  "nbformat_minor": 0,
  "metadata": {
    "colab": {
      "name": "How to download Voxceleb1 audio data (demo for India celeb).ipynb",
      "provenance": [],
      "toc_visible": true,
      "mount_file_id": "1wtzU_UZC2xTu32IY3FTmudjX_b6m9SIZ",
      "authorship_tag": "ABX9TyPUJ1XByLCEVnU4mucdcPKt",
      "include_colab_link": true
    },
    "kernelspec": {
      "name": "python3",
      "display_name": "Python 3"
    },
    "language_info": {
      "name": "python"
    }
  },
  "cells": [
    {
      "cell_type": "markdown",
      "metadata": {
        "id": "view-in-github",
        "colab_type": "text"
      },
      "source": [
        "<a href=\"https://colab.research.google.com/github/gkv856/util_repo/blob/master/How_to_download_Voxceleb1_audio_data_(demo_for_India_celeb).ipynb\" target=\"_parent\"><img src=\"https://colab.research.google.com/assets/colab-badge.svg\" alt=\"Open In Colab\"/></a>"
      ]
    },
    {
      "cell_type": "markdown",
      "metadata": {
        "id": "t4TDemyo5V_p"
      },
      "source": [
        "# Read ME\n",
        "This notebook will teach you to download audio data from the Voxceleb1 database.\n",
        "Couple of things to note\n",
        "\n",
        "\n",
        "1.   The audio data is divided into multiple files on the Voxceleb website, you can find more details [here](https://www.robots.ox.ac.uk/~vgg/data/voxceleb/vox1.html)\n",
        "2.   We will use DevA as a sample, but you can scale it as per your convinent\n",
        "\n",
        "**Steps to get the data**\n",
        "\n",
        "\n",
        "*   Download the data using wget (depending upon the disk space, you can download all or just one)\n",
        "* One part file is of 10GB size\n",
        "* Merge part files into one '.zip' file \n",
        "* Extract the zip file into normal 'wav' files\n",
        "* Use a function to **move** desired celebrity's wav files to another folder\n",
        "* zip the final folder and download and use\n",
        "\n",
        "\n"
      ]
    },
    {
      "cell_type": "markdown",
      "metadata": {
        "id": "xR2iyP2I6vmF"
      },
      "source": [
        "# Download and EDA for data's metadata"
      ]
    },
    {
      "cell_type": "code",
      "metadata": {
        "id": "uTaFIRJpRKkB"
      },
      "source": [
        "import pandas as pd"
      ],
      "execution_count": 45,
      "outputs": []
    },
    {
      "cell_type": "code",
      "metadata": {
        "colab": {
          "base_uri": "https://localhost:8080/",
          "height": 203
        },
        "id": "XAiC0NoDon71",
        "outputId": "bb898b77-b87e-4676-fe95-e3be321fca91"
      },
      "source": [
        "df = pd.read_csv(\"https://www.robots.ox.ac.uk/~vgg/data/voxceleb/meta/vox1_meta.csv\", delimiter=\"\\t\")\n",
        "df.head()"
      ],
      "execution_count": null,
      "outputs": [
        {
          "output_type": "execute_result",
          "data": {
            "text/html": [
              "<div>\n",
              "<style scoped>\n",
              "    .dataframe tbody tr th:only-of-type {\n",
              "        vertical-align: middle;\n",
              "    }\n",
              "\n",
              "    .dataframe tbody tr th {\n",
              "        vertical-align: top;\n",
              "    }\n",
              "\n",
              "    .dataframe thead th {\n",
              "        text-align: right;\n",
              "    }\n",
              "</style>\n",
              "<table border=\"1\" class=\"dataframe\">\n",
              "  <thead>\n",
              "    <tr style=\"text-align: right;\">\n",
              "      <th></th>\n",
              "      <th>VoxCeleb1 ID</th>\n",
              "      <th>VGGFace1 ID</th>\n",
              "      <th>Gender</th>\n",
              "      <th>Nationality</th>\n",
              "      <th>Set</th>\n",
              "    </tr>\n",
              "  </thead>\n",
              "  <tbody>\n",
              "    <tr>\n",
              "      <th>0</th>\n",
              "      <td>id10001</td>\n",
              "      <td>A.J._Buckley</td>\n",
              "      <td>m</td>\n",
              "      <td>Ireland</td>\n",
              "      <td>dev</td>\n",
              "    </tr>\n",
              "    <tr>\n",
              "      <th>1</th>\n",
              "      <td>id10002</td>\n",
              "      <td>A.R._Rahman</td>\n",
              "      <td>m</td>\n",
              "      <td>India</td>\n",
              "      <td>dev</td>\n",
              "    </tr>\n",
              "    <tr>\n",
              "      <th>2</th>\n",
              "      <td>id10003</td>\n",
              "      <td>Aamir_Khan</td>\n",
              "      <td>m</td>\n",
              "      <td>India</td>\n",
              "      <td>dev</td>\n",
              "    </tr>\n",
              "    <tr>\n",
              "      <th>3</th>\n",
              "      <td>id10004</td>\n",
              "      <td>Aaron_Tveit</td>\n",
              "      <td>m</td>\n",
              "      <td>USA</td>\n",
              "      <td>dev</td>\n",
              "    </tr>\n",
              "    <tr>\n",
              "      <th>4</th>\n",
              "      <td>id10005</td>\n",
              "      <td>Aaron_Yoo</td>\n",
              "      <td>m</td>\n",
              "      <td>USA</td>\n",
              "      <td>dev</td>\n",
              "    </tr>\n",
              "  </tbody>\n",
              "</table>\n",
              "</div>"
            ],
            "text/plain": [
              "  VoxCeleb1 ID   VGGFace1 ID Gender Nationality  Set\n",
              "0      id10001  A.J._Buckley      m     Ireland  dev\n",
              "1      id10002   A.R._Rahman      m       India  dev\n",
              "2      id10003    Aamir_Khan      m       India  dev\n",
              "3      id10004   Aaron_Tveit      m         USA  dev\n",
              "4      id10005     Aaron_Yoo      m         USA  dev"
            ]
          },
          "metadata": {},
          "execution_count": 31
        }
      ]
    },
    {
      "cell_type": "code",
      "metadata": {
        "colab": {
          "base_uri": "https://localhost:8080/",
          "height": 203
        },
        "id": "OzDqB0fmouNQ",
        "outputId": "18dac2ef-d3c7-4074-8cb7-b25c7089715a"
      },
      "source": [
        "# creating another dataframe with only India nationalities. \n",
        "# I am interested only in India celebrities \n",
        "df_india = df[df[\"Nationality\"]==\"India\"]\n",
        "df_india.head()"
      ],
      "execution_count": null,
      "outputs": [
        {
          "output_type": "execute_result",
          "data": {
            "text/html": [
              "<div>\n",
              "<style scoped>\n",
              "    .dataframe tbody tr th:only-of-type {\n",
              "        vertical-align: middle;\n",
              "    }\n",
              "\n",
              "    .dataframe tbody tr th {\n",
              "        vertical-align: top;\n",
              "    }\n",
              "\n",
              "    .dataframe thead th {\n",
              "        text-align: right;\n",
              "    }\n",
              "</style>\n",
              "<table border=\"1\" class=\"dataframe\">\n",
              "  <thead>\n",
              "    <tr style=\"text-align: right;\">\n",
              "      <th></th>\n",
              "      <th>VoxCeleb1 ID</th>\n",
              "      <th>VGGFace1 ID</th>\n",
              "      <th>Gender</th>\n",
              "      <th>Nationality</th>\n",
              "      <th>Set</th>\n",
              "    </tr>\n",
              "  </thead>\n",
              "  <tbody>\n",
              "    <tr>\n",
              "      <th>1</th>\n",
              "      <td>id10002</td>\n",
              "      <td>A.R._Rahman</td>\n",
              "      <td>m</td>\n",
              "      <td>India</td>\n",
              "      <td>dev</td>\n",
              "    </tr>\n",
              "    <tr>\n",
              "      <th>2</th>\n",
              "      <td>id10003</td>\n",
              "      <td>Aamir_Khan</td>\n",
              "      <td>m</td>\n",
              "      <td>India</td>\n",
              "      <td>dev</td>\n",
              "    </tr>\n",
              "    <tr>\n",
              "      <th>16</th>\n",
              "      <td>id10017</td>\n",
              "      <td>Ajay_Devgn</td>\n",
              "      <td>m</td>\n",
              "      <td>India</td>\n",
              "      <td>dev</td>\n",
              "    </tr>\n",
              "    <tr>\n",
              "      <th>17</th>\n",
              "      <td>id10018</td>\n",
              "      <td>Akshay_Kumar</td>\n",
              "      <td>m</td>\n",
              "      <td>India</td>\n",
              "      <td>dev</td>\n",
              "    </tr>\n",
              "    <tr>\n",
              "      <th>44</th>\n",
              "      <td>id10045</td>\n",
              "      <td>Amitabh_Bachchan</td>\n",
              "      <td>m</td>\n",
              "      <td>India</td>\n",
              "      <td>dev</td>\n",
              "    </tr>\n",
              "  </tbody>\n",
              "</table>\n",
              "</div>"
            ],
            "text/plain": [
              "   VoxCeleb1 ID       VGGFace1 ID Gender Nationality  Set\n",
              "1       id10002       A.R._Rahman      m       India  dev\n",
              "2       id10003        Aamir_Khan      m       India  dev\n",
              "16      id10017        Ajay_Devgn      m       India  dev\n",
              "17      id10018      Akshay_Kumar      m       India  dev\n",
              "44      id10045  Amitabh_Bachchan      m       India  dev"
            ]
          },
          "metadata": {},
          "execution_count": 41
        }
      ]
    },
    {
      "cell_type": "markdown",
      "metadata": {
        "id": "JdzQmUoy7Cc_"
      },
      "source": [
        "# Download part files"
      ]
    },
    {
      "cell_type": "code",
      "metadata": {
        "colab": {
          "base_uri": "https://localhost:8080/"
        },
        "id": "fMnoJzSbouvo",
        "outputId": "b7980649-4e9f-4669-b12e-9d44a3b3cc07"
      },
      "source": [
        "!wget https://thor.robots.ox.ac.uk/~vgg/data/voxceleb/vox1a/vox1_dev_wav_partaa"
      ],
      "execution_count": null,
      "outputs": [
        {
          "output_type": "stream",
          "name": "stdout",
          "text": [
            "--2021-10-07 07:24:51--  https://thor.robots.ox.ac.uk/~vgg/data/voxceleb/vox1a/vox1_dev_wav_partaa\n",
            "Resolving thor.robots.ox.ac.uk (thor.robots.ox.ac.uk)... 129.67.95.98\n",
            "Connecting to thor.robots.ox.ac.uk (thor.robots.ox.ac.uk)|129.67.95.98|:443... connected.\n",
            "HTTP request sent, awaiting response... 200 OK\n",
            "Length: 10737418240 (10G) [application/octet-stream]\n",
            "Saving to: ‘vox1_dev_wav_partaa’\n",
            "\n",
            "vox1_dev_wav_partaa 100%[===================>]  10.00G  28.4MB/s    in 6m 5s   \n",
            "\n",
            "2021-10-07 07:30:56 (28.1 MB/s) - ‘vox1_dev_wav_partaa’ saved [10737418240/10737418240]\n",
            "\n"
          ]
        }
      ]
    },
    {
      "cell_type": "code",
      "metadata": {
        "colab": {
          "base_uri": "https://localhost:8080/"
        },
        "id": "Sg5rXJc7X_Xb",
        "outputId": "b3a2535c-9d48-4876-902c-a31c45e193ae"
      },
      "source": [
        "!wget https://thor.robots.ox.ac.uk/~vgg/data/voxceleb/vox1a/vox1_dev_wav_partab"
      ],
      "execution_count": null,
      "outputs": [
        {
          "output_type": "stream",
          "name": "stdout",
          "text": [
            "--2021-10-07 07:30:56--  https://thor.robots.ox.ac.uk/~vgg/data/voxceleb/vox1a/vox1_dev_wav_partab\n",
            "Resolving thor.robots.ox.ac.uk (thor.robots.ox.ac.uk)... 129.67.95.98\n",
            "Connecting to thor.robots.ox.ac.uk (thor.robots.ox.ac.uk)|129.67.95.98|:443... connected.\n",
            "HTTP request sent, awaiting response... 200 OK\n",
            "Length: 10737418240 (10G) [application/octet-stream]\n",
            "Saving to: ‘vox1_dev_wav_partab’\n",
            "\n",
            "vox1_dev_wav_partab 100%[===================>]  10.00G  24.7MB/s    in 6m 6s   \n",
            "\n",
            "2021-10-07 07:37:03 (28.0 MB/s) - ‘vox1_dev_wav_partab’ saved [10737418240/10737418240]\n",
            "\n"
          ]
        }
      ]
    },
    {
      "cell_type": "code",
      "metadata": {
        "colab": {
          "base_uri": "https://localhost:8080/"
        },
        "id": "Eu3gGtyWYAyj",
        "outputId": "1641e703-dfb2-4b2c-d763-c3eab5327f7e"
      },
      "source": [
        "!wget https://thor.robots.ox.ac.uk/~vgg/data/voxceleb/vox1a/vox1_dev_wav_partac"
      ],
      "execution_count": null,
      "outputs": [
        {
          "output_type": "stream",
          "name": "stdout",
          "text": [
            "--2021-10-07 07:48:18--  https://thor.robots.ox.ac.uk/~vgg/data/voxceleb/vox1a/vox1_dev_wav_partac\n",
            "Resolving thor.robots.ox.ac.uk (thor.robots.ox.ac.uk)... 129.67.95.98\n",
            "Connecting to thor.robots.ox.ac.uk (thor.robots.ox.ac.uk)|129.67.95.98|:443... connected.\n",
            "HTTP request sent, awaiting response... 200 OK\n",
            "Length: 10737418240 (10G) [application/octet-stream]\n",
            "Saving to: ‘vox1_dev_wav_partac’\n",
            "\n",
            "vox1_dev_wav_partac  99%[==================> ]  10.00G  28.5MB/s    eta 1s     ^C\n"
          ]
        }
      ]
    },
    {
      "cell_type": "markdown",
      "metadata": {
        "id": "pv6pp4Lz7HCO"
      },
      "source": [
        "# Merge all the part files into one big zip file"
      ]
    },
    {
      "cell_type": "code",
      "metadata": {
        "id": "DQhxpF9IRbu_"
      },
      "source": [
        "!cat vox1_dev* > vox1_dev_wav.zip"
      ],
      "execution_count": null,
      "outputs": []
    },
    {
      "cell_type": "markdown",
      "metadata": {
        "id": "OBjeB0_s7NXs"
      },
      "source": [
        "# Extract files to a folder from the zip file"
      ]
    },
    {
      "cell_type": "code",
      "metadata": {
        "id": "GV93ylZIiYgG"
      },
      "source": [
        "!jar xvf /content/vox1_dev_wav.zip"
      ],
      "execution_count": null,
      "outputs": []
    },
    {
      "cell_type": "markdown",
      "metadata": {
        "id": "sHBlb3u47Vm-"
      },
      "source": [
        "# Defining functions"
      ]
    },
    {
      "cell_type": "code",
      "metadata": {
        "colab": {
          "base_uri": "https://localhost:8080/"
        },
        "id": "Hs-7GSabi-3X",
        "outputId": "918ccd3c-2018-4935-8b16-539036f621e9"
      },
      "source": [
        "# creating Indian celeb as a list\n",
        "celeb_lst = df_india[\"VoxCeleb1 ID\"].values\n",
        "celeb_lst"
      ],
      "execution_count": null,
      "outputs": [
        {
          "output_type": "execute_result",
          "data": {
            "text/plain": [
              "array(['id10002', 'id10003', 'id10017', 'id10018', 'id10045', 'id10292',\n",
              "       'id10324', 'id10393', 'id10519', 'id10583', 'id10662', 'id10724',\n",
              "       'id10852', 'id10901', 'id10912', 'id10941', 'id10943', 'id10955',\n",
              "       'id10956', 'id11071', 'id11089', 'id11090', 'id11100', 'id11130',\n",
              "       'id11136', 'id11209'], dtype=object)"
            ]
          },
          "metadata": {},
          "execution_count": 12
        }
      ]
    },
    {
      "cell_type": "code",
      "metadata": {
        "id": "W-4LEzUAi0Ku"
      },
      "source": [
        "import shutil\n",
        "import os\n",
        "\n",
        "def walk_through_dir(dir_path):\n",
        "    \"\"\"\n",
        "      this function prints the number of files available in a folder\n",
        "    \"\"\"    \n",
        "    for dirpath, dirnames, filenames in os.walk(dir_path):\n",
        "      # spliting the directory name and looking at the last item\n",
        "      # dirpath might look = /content/wav/id11090\n",
        "      # we are interested in the id11090 part so that we filter on celeb voice\n",
        "      split_names = dirpath.split(\"/\")\n",
        "      if split_names[-1] in celeb_lst:\n",
        "        print(f\"There are {len(dirnames)} directories and {len(filenames)} images in '{dirpath}'.\")\n",
        "        "
      ],
      "execution_count": null,
      "outputs": []
    },
    {
      "cell_type": "code",
      "metadata": {
        "id": "swhMCQAUi8o-"
      },
      "source": [
        "# test the function\n",
        "walk_through_dir(\"/content/wav\")"
      ],
      "execution_count": null,
      "outputs": []
    },
    {
      "cell_type": "code",
      "metadata": {
        "id": "MTCACaCkkO5s"
      },
      "source": [
        "import shutil\n",
        "  \n",
        "\n",
        "def move_dir(dir_path, destination= \"./vox_indian\"):\n",
        "    \"\"\"\n",
        "    Walks through dir_path returning moves its content to destination folder.\n",
        "    Args:\n",
        "    dir_path (str): root directory to look into\n",
        "    destination (str): target directory, where to save the final audio files\n",
        "\n",
        "    \"\"\"\n",
        "    for dirpath, dirnames, filenames in os.walk(dir_path):\n",
        "        split_names = dirpath.split(\"/\")\n",
        "        if split_names[-1] in celeb_lst:\n",
        "            dest_path = destination + \"/\" + split_names[-1]\n",
        "            dest = shutil.move(dirpath, dest_path)\n",
        "            \n",
        "            print(f\"Moving from '{dirpath}' to '{dest_path}'\")\n",
        "            "
      ],
      "execution_count": null,
      "outputs": []
    },
    {
      "cell_type": "code",
      "metadata": {
        "id": "jRRFHQeZkUVv"
      },
      "source": [
        "move_dir(\"/content/wav\")"
      ],
      "execution_count": null,
      "outputs": []
    },
    {
      "cell_type": "markdown",
      "metadata": {
        "id": "FZYGVDPN8cc8"
      },
      "source": [
        "# Final step - zip the subset of vox audio"
      ]
    },
    {
      "cell_type": "code",
      "metadata": {
        "id": "fBS9C5fjkYf9"
      },
      "source": [
        "!zip -r vox1_indian.zip /content/vox_indian"
      ],
      "execution_count": null,
      "outputs": []
    },
    {
      "cell_type": "markdown",
      "metadata": {
        "id": "mjJBDKqM8ktE"
      },
      "source": [
        "# Now you can download a subset of data"
      ]
    }
  ]
}
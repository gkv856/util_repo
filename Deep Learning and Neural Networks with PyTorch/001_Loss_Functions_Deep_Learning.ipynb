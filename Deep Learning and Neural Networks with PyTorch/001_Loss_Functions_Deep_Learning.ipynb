{
  "nbformat": 4,
  "nbformat_minor": 0,
  "metadata": {
    "colab": {
      "provenance": [],
      "toc_visible": true
    },
    "kernelspec": {
      "name": "python3",
      "display_name": "Python 3"
    },
    "language_info": {
      "name": "python"
    }
  },
  "cells": [
    {
      "cell_type": "code",
      "execution_count": null,
      "metadata": {
        "id": "UbF7jG6xYXfT"
      },
      "outputs": [],
      "source": [
        "import torch\n",
        "import torch.nn as nn"
      ]
    },
    {
      "cell_type": "markdown",
      "source": [
        "# MSE Loss (L2 Loss)"
      ],
      "metadata": {
        "id": "Duwbe2VkZoDP"
      }
    },
    {
      "cell_type": "markdown",
      "source": [
        "## Generating random 3 by 2 tensor"
      ],
      "metadata": {
        "id": "WUp23bgCZq0x"
      }
    },
    {
      "cell_type": "code",
      "source": [
        "input = torch.randn(3, 2)\n",
        "target = torch.randn(3, 2)"
      ],
      "metadata": {
        "id": "4Ne5b67aYlRq"
      },
      "execution_count": null,
      "outputs": []
    },
    {
      "cell_type": "code",
      "source": [
        "input"
      ],
      "metadata": {
        "colab": {
          "base_uri": "https://localhost:8080/"
        },
        "id": "dJDdN43KYxh3",
        "outputId": "74756113-1b5a-42df-cb78-bfd5919de2da"
      },
      "execution_count": null,
      "outputs": [
        {
          "output_type": "execute_result",
          "data": {
            "text/plain": [
              "tensor([[ 0.3188, -0.5493],\n",
              "        [ 1.3590,  0.7888],\n",
              "        [ 0.4838,  0.4685]])"
            ]
          },
          "metadata": {},
          "execution_count": 3
        }
      ]
    },
    {
      "cell_type": "markdown",
      "source": [
        "## Creating an instance of loss function"
      ],
      "metadata": {
        "id": "XT_N5f64ZvWa"
      }
    },
    {
      "cell_type": "code",
      "source": [
        "mse_loss = nn.MSELoss()"
      ],
      "metadata": {
        "id": "TPhuBboEY6-O"
      },
      "execution_count": null,
      "outputs": []
    },
    {
      "cell_type": "markdown",
      "source": [
        "## Calculating loss"
      ],
      "metadata": {
        "id": "1MQCPzN5Zzv1"
      }
    },
    {
      "cell_type": "code",
      "source": [
        "output = mse_loss(input, target)"
      ],
      "metadata": {
        "id": "qoRNpIS8Ydav"
      },
      "execution_count": null,
      "outputs": []
    },
    {
      "cell_type": "code",
      "source": [
        "output"
      ],
      "metadata": {
        "colab": {
          "base_uri": "https://localhost:8080/"
        },
        "id": "hwAu0_8HY-2f",
        "outputId": "a0ab5f0a-22cd-44bf-d22a-7a82b01d33f2"
      },
      "execution_count": null,
      "outputs": [
        {
          "output_type": "execute_result",
          "data": {
            "text/plain": [
              "tensor(0.1386)"
            ]
          },
          "metadata": {},
          "execution_count": 6
        }
      ]
    },
    {
      "cell_type": "code",
      "source": [
        "x = [9.37, 8.53, 5.29, 3.17, 7.00, 6.21, 6.96, 7.09]\n",
        "y = [7.23, 4.75, 6.53, 9.37, 8.33, 1.87, 9.27, 9.47]\n",
        "\n",
        "# x and y both are lists, lets convert them to tensors\n",
        "\n",
        "x_tensor = torch.tensor(x)\n",
        "y_tensor = torch.tensor(y)\n"
      ],
      "metadata": {
        "id": "ksfq-Qt7ZEWN"
      },
      "execution_count": null,
      "outputs": []
    },
    {
      "cell_type": "code",
      "source": [
        "output = mse_loss(x_tensor, y_tensor)\n",
        "output"
      ],
      "metadata": {
        "colab": {
          "base_uri": "https://localhost:8080/"
        },
        "id": "OHkaKnS9ZVxH",
        "outputId": "766ded44-f95e-487b-eca5-8248dbc33fc1"
      },
      "execution_count": null,
      "outputs": [
        {
          "output_type": "execute_result",
          "data": {
            "text/plain": [
              "tensor(11.3063)"
            ]
          },
          "metadata": {},
          "execution_count": 8
        }
      ]
    },
    {
      "cell_type": "markdown",
      "source": [
        "# MAE loss (L1 loss)"
      ],
      "metadata": {
        "id": "LR4LPGYSca1p"
      }
    },
    {
      "cell_type": "code",
      "source": [
        "mae_loss = nn.L1Loss()"
      ],
      "metadata": {
        "id": "blvjsZDLbBXa"
      },
      "execution_count": null,
      "outputs": []
    },
    {
      "cell_type": "code",
      "source": [
        "output = mae_loss(x_tensor, y_tensor)\n",
        "output"
      ],
      "metadata": {
        "colab": {
          "base_uri": "https://localhost:8080/"
        },
        "id": "yzuWAC4GbO4m",
        "outputId": "d9a08f30-7508-4c57-f72b-4838eda49a4f"
      },
      "execution_count": null,
      "outputs": [
        {
          "output_type": "execute_result",
          "data": {
            "text/plain": [
              "tensor(2.9650)"
            ]
          },
          "metadata": {},
          "execution_count": 10
        }
      ]
    },
    {
      "cell_type": "markdown",
      "source": [
        "# L1 vs L2 loss?\n",
        "## When to use which one?\n",
        "\n",
        "Well think about it. L1 is just the difference of 2 value and L2 is square. Which means if your dataset has outliars, L2 loss will shoot up a lot because of the square factor, so whenever you are deciding on which loss to use in your NN, thats the concept you need to keep in mind."
      ],
      "metadata": {
        "id": "iszBt983cUdR"
      }
    },
    {
      "cell_type": "code",
      "source": [
        "x = [900.37, 8.53, 5.29, 3.17, 7.00, 6.21, 6.96, 7.09]\n",
        "y = [7700.23, 4.75, 6.53, 9.37, 8.33, 1.87, 9.27, 9.47]\n",
        "\n",
        "# x and y both are lists, lets convert them to tensors\n",
        "\n",
        "x_tensor = torch.tensor(x)\n",
        "y_tensor = torch.tensor(y)"
      ],
      "metadata": {
        "id": "hQ7Rtm2abQHV"
      },
      "execution_count": null,
      "outputs": []
    },
    {
      "cell_type": "code",
      "source": [
        "# L1 vs L2 loss\n",
        "l1 = mae_loss(x_tensor, y_tensor)\n",
        "l2 = mse_loss(x_tensor, y_tensor)\n",
        "print(\"L1 loss = \", l1, \"L2 loss = \", l2)"
      ],
      "metadata": {
        "colab": {
          "base_uri": "https://localhost:8080/"
        },
        "id": "SqYOR3mYc-91",
        "outputId": "411d76b3-b4b8-4d7e-a199-b4d30f026f9b"
      },
      "execution_count": null,
      "outputs": [
        {
          "output_type": "stream",
          "name": "stdout",
          "text": [
            "L1 loss =  tensor(852.6800) L2 loss =  tensor(5779772.5000)\n"
          ]
        }
      ]
    },
    {
      "cell_type": "markdown",
      "source": [
        "#Binary cross entrophy loss\n",
        "\n",
        "- Usually used when the output labels have values 0 or 1\n",
        "- It can also be used when the output labels have values **between** 0 and 1\n",
        "- It is also widely used when we have only two classes (0 or 1) (example: yes or no)"
      ],
      "metadata": {
        "id": "LOgic8l5d7Ch"
      }
    },
    {
      "cell_type": "markdown",
      "source": [
        "![image.png](data:image/png;base64,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)"
      ],
      "metadata": {
        "id": "WM3wt203kpDh"
      }
    },
    {
      "cell_type": "markdown",
      "source": [
        "- Yi - Actual class label (0 or 1)\n",
        "- p - predicted probability for the class\n",
        "- n - number of samples"
      ],
      "metadata": {
        "id": "sttXyTU3joaU"
      }
    },
    {
      "cell_type": "markdown",
      "source": [],
      "metadata": {
        "id": "xDKRSprelLfU"
      }
    },
    {
      "cell_type": "code",
      "source": [
        "def crossEntropy(yhat, y):\n",
        "  if yhat == 1:\n",
        "    # for label value where y = 1 and  (1-y) will become zero\n",
        "    return -log(y)\n",
        "  else:\n",
        "    # for label value where y = 0 and  (1-y) will become one\n",
        "    return -log(1-y)"
      ],
      "metadata": {
        "id": "-5rBGSiclMH-"
      },
      "execution_count": null,
      "outputs": []
    },
    {
      "cell_type": "markdown",
      "source": [
        "## Log Graph"
      ],
      "metadata": {
        "id": "RAJpfGwNgBsH"
      }
    },
    {
      "cell_type": "code",
      "source": [
        "!pip install bokeh"
      ],
      "metadata": {
        "colab": {
          "base_uri": "https://localhost:8080/"
        },
        "id": "Am4RcZAqeumz",
        "outputId": "36145663-8327-4cd8-8b84-218e56a586a7"
      },
      "execution_count": null,
      "outputs": [
        {
          "output_type": "stream",
          "name": "stdout",
          "text": [
            "Requirement already satisfied: bokeh in /usr/local/lib/python3.10/dist-packages (3.3.4)\n",
            "Requirement already satisfied: Jinja2>=2.9 in /usr/local/lib/python3.10/dist-packages (from bokeh) (3.1.3)\n",
            "Requirement already satisfied: contourpy>=1 in /usr/local/lib/python3.10/dist-packages (from bokeh) (1.2.0)\n",
            "Requirement already satisfied: numpy>=1.16 in /usr/local/lib/python3.10/dist-packages (from bokeh) (1.25.2)\n",
            "Requirement already satisfied: packaging>=16.8 in /usr/local/lib/python3.10/dist-packages (from bokeh) (24.0)\n",
            "Requirement already satisfied: pandas>=1.2 in /usr/local/lib/python3.10/dist-packages (from bokeh) (1.5.3)\n",
            "Requirement already satisfied: pillow>=7.1.0 in /usr/local/lib/python3.10/dist-packages (from bokeh) (9.4.0)\n",
            "Requirement already satisfied: PyYAML>=3.10 in /usr/local/lib/python3.10/dist-packages (from bokeh) (6.0.1)\n",
            "Requirement already satisfied: tornado>=5.1 in /usr/local/lib/python3.10/dist-packages (from bokeh) (6.3.3)\n",
            "Requirement already satisfied: xyzservices>=2021.09.1 in /usr/local/lib/python3.10/dist-packages (from bokeh) (2023.10.1)\n",
            "Requirement already satisfied: MarkupSafe>=2.0 in /usr/local/lib/python3.10/dist-packages (from Jinja2>=2.9->bokeh) (2.1.5)\n",
            "Requirement already satisfied: python-dateutil>=2.8.1 in /usr/local/lib/python3.10/dist-packages (from pandas>=1.2->bokeh) (2.8.2)\n",
            "Requirement already satisfied: pytz>=2020.1 in /usr/local/lib/python3.10/dist-packages (from pandas>=1.2->bokeh) (2023.4)\n",
            "Requirement already satisfied: six>=1.5 in /usr/local/lib/python3.10/dist-packages (from python-dateutil>=2.8.1->pandas>=1.2->bokeh) (1.16.0)\n"
          ]
        }
      ]
    },
    {
      "cell_type": "code",
      "source": [
        "from bokeh.plotting import figure, output_notebook, show\n",
        "from bokeh.models import HoverTool\n",
        "import numpy as np\n",
        "\n",
        "output_notebook()   # Allows for interactive figures in the notebook\n",
        "\n",
        "# Generate x values\n",
        "x = np.linspace(0.01, 2, 400)\n",
        "\n",
        "# Calculate y values\n",
        "y = -np.log10(x)\n",
        "\n",
        "TOOLTIPS = [\n",
        "    (\"index\", \"$index\"),\n",
        "    (\"(x,y)\", \"($x, $y)\")\n",
        "]\n",
        "\n",
        "# create a new plot with the tooltip\n",
        "p = figure(width=400, height=400, tooltips=TOOLTIPS,\n",
        "           title=\"-log10(x)\", x_axis_label='x', y_axis_label='-log10(x)')\n",
        "\n",
        "# plot\n",
        "p.line(x, y)\n",
        "\n",
        "show(p)\n"
      ],
      "metadata": {
        "colab": {
          "base_uri": "https://localhost:8080/",
          "height": 417
        },
        "id": "et-_YDHgewmS",
        "outputId": "f52ad6c0-cfb9-4823-dee6-718eeeb5e233"
      },
      "execution_count": null,
      "outputs": [
        {
          "output_type": "display_data",
          "data": {
            "application/javascript": [
              "(function(root) {\n",
              "  function now() {\n",
              "    return new Date();\n",
              "  }\n",
              "\n",
              "  const force = true;\n",
              "\n",
              "  if (typeof root._bokeh_onload_callbacks === \"undefined\" || force === true) {\n",
              "    root._bokeh_onload_callbacks = [];\n",
              "    root._bokeh_is_loading = undefined;\n",
              "  }\n",
              "\n",
              "const JS_MIME_TYPE = 'application/javascript';\n",
              "  const HTML_MIME_TYPE = 'text/html';\n",
              "  const EXEC_MIME_TYPE = 'application/vnd.bokehjs_exec.v0+json';\n",
              "  const CLASS_NAME = 'output_bokeh rendered_html';\n",
              "\n",
              "  /**\n",
              "   * Render data to the DOM node\n",
              "   */\n",
              "  function render(props, node) {\n",
              "    const script = document.createElement(\"script\");\n",
              "    node.appendChild(script);\n",
              "  }\n",
              "\n",
              "  /**\n",
              "   * Handle when an output is cleared or removed\n",
              "   */\n",
              "  function handleClearOutput(event, handle) {\n",
              "    function drop(id) {\n",
              "      const view = Bokeh.index.get_by_id(id)\n",
              "      if (view != null) {\n",
              "        view.model.document.clear()\n",
              "        Bokeh.index.delete(view)\n",
              "      }\n",
              "    }\n",
              "\n",
              "    const cell = handle.cell;\n",
              "\n",
              "    const id = cell.output_area._bokeh_element_id;\n",
              "    const server_id = cell.output_area._bokeh_server_id;\n",
              "\n",
              "    // Clean up Bokeh references\n",
              "    if (id != null) {\n",
              "      drop(id)\n",
              "    }\n",
              "\n",
              "    if (server_id !== undefined) {\n",
              "      // Clean up Bokeh references\n",
              "      const cmd_clean = \"from bokeh.io.state import curstate; print(curstate().uuid_to_server['\" + server_id + \"'].get_sessions()[0].document.roots[0]._id)\";\n",
              "      cell.notebook.kernel.execute(cmd_clean, {\n",
              "        iopub: {\n",
              "          output: function(msg) {\n",
              "            const id = msg.content.text.trim()\n",
              "            drop(id)\n",
              "          }\n",
              "        }\n",
              "      });\n",
              "      // Destroy server and session\n",
              "      const cmd_destroy = \"import bokeh.io.notebook as ion; ion.destroy_server('\" + server_id + \"')\";\n",
              "      cell.notebook.kernel.execute(cmd_destroy);\n",
              "    }\n",
              "  }\n",
              "\n",
              "  /**\n",
              "   * Handle when a new output is added\n",
              "   */\n",
              "  function handleAddOutput(event, handle) {\n",
              "    const output_area = handle.output_area;\n",
              "    const output = handle.output;\n",
              "\n",
              "    // limit handleAddOutput to display_data with EXEC_MIME_TYPE content only\n",
              "    if ((output.output_type != \"display_data\") || (!Object.prototype.hasOwnProperty.call(output.data, EXEC_MIME_TYPE))) {\n",
              "      return\n",
              "    }\n",
              "\n",
              "    const toinsert = output_area.element.find(\".\" + CLASS_NAME.split(' ')[0]);\n",
              "\n",
              "    if (output.metadata[EXEC_MIME_TYPE][\"id\"] !== undefined) {\n",
              "      toinsert[toinsert.length - 1].firstChild.textContent = output.data[JS_MIME_TYPE];\n",
              "      // store reference to embed id on output_area\n",
              "      output_area._bokeh_element_id = output.metadata[EXEC_MIME_TYPE][\"id\"];\n",
              "    }\n",
              "    if (output.metadata[EXEC_MIME_TYPE][\"server_id\"] !== undefined) {\n",
              "      const bk_div = document.createElement(\"div\");\n",
              "      bk_div.innerHTML = output.data[HTML_MIME_TYPE];\n",
              "      const script_attrs = bk_div.children[0].attributes;\n",
              "      for (let i = 0; i < script_attrs.length; i++) {\n",
              "        toinsert[toinsert.length - 1].firstChild.setAttribute(script_attrs[i].name, script_attrs[i].value);\n",
              "        toinsert[toinsert.length - 1].firstChild.textContent = bk_div.children[0].textContent\n",
              "      }\n",
              "      // store reference to server id on output_area\n",
              "      output_area._bokeh_server_id = output.metadata[EXEC_MIME_TYPE][\"server_id\"];\n",
              "    }\n",
              "  }\n",
              "\n",
              "  function register_renderer(events, OutputArea) {\n",
              "\n",
              "    function append_mime(data, metadata, element) {\n",
              "      // create a DOM node to render to\n",
              "      const toinsert = this.create_output_subarea(\n",
              "        metadata,\n",
              "        CLASS_NAME,\n",
              "        EXEC_MIME_TYPE\n",
              "      );\n",
              "      this.keyboard_manager.register_events(toinsert);\n",
              "      // Render to node\n",
              "      const props = {data: data, metadata: metadata[EXEC_MIME_TYPE]};\n",
              "      render(props, toinsert[toinsert.length - 1]);\n",
              "      element.append(toinsert);\n",
              "      return toinsert\n",
              "    }\n",
              "\n",
              "    /* Handle when an output is cleared or removed */\n",
              "    events.on('clear_output.CodeCell', handleClearOutput);\n",
              "    events.on('delete.Cell', handleClearOutput);\n",
              "\n",
              "    /* Handle when a new output is added */\n",
              "    events.on('output_added.OutputArea', handleAddOutput);\n",
              "\n",
              "    /**\n",
              "     * Register the mime type and append_mime function with output_area\n",
              "     */\n",
              "    OutputArea.prototype.register_mime_type(EXEC_MIME_TYPE, append_mime, {\n",
              "      /* Is output safe? */\n",
              "      safe: true,\n",
              "      /* Index of renderer in `output_area.display_order` */\n",
              "      index: 0\n",
              "    });\n",
              "  }\n",
              "\n",
              "  // register the mime type if in Jupyter Notebook environment and previously unregistered\n",
              "  if (root.Jupyter !== undefined) {\n",
              "    const events = require('base/js/events');\n",
              "    const OutputArea = require('notebook/js/outputarea').OutputArea;\n",
              "\n",
              "    if (OutputArea.prototype.mime_types().indexOf(EXEC_MIME_TYPE) == -1) {\n",
              "      register_renderer(events, OutputArea);\n",
              "    }\n",
              "  }\n",
              "  if (typeof (root._bokeh_timeout) === \"undefined\" || force === true) {\n",
              "    root._bokeh_timeout = Date.now() + 5000;\n",
              "    root._bokeh_failed_load = false;\n",
              "  }\n",
              "\n",
              "  const NB_LOAD_WARNING = {'data': {'text/html':\n",
              "     \"<div style='background-color: #fdd'>\\n\"+\n",
              "     \"<p>\\n\"+\n",
              "     \"BokehJS does not appear to have successfully loaded. If loading BokehJS from CDN, this \\n\"+\n",
              "     \"may be due to a slow or bad network connection. Possible fixes:\\n\"+\n",
              "     \"</p>\\n\"+\n",
              "     \"<ul>\\n\"+\n",
              "     \"<li>re-rerun `output_notebook()` to attempt to load from CDN again, or</li>\\n\"+\n",
              "     \"<li>use INLINE resources instead, as so:</li>\\n\"+\n",
              "     \"</ul>\\n\"+\n",
              "     \"<code>\\n\"+\n",
              "     \"from bokeh.resources import INLINE\\n\"+\n",
              "     \"output_notebook(resources=INLINE)\\n\"+\n",
              "     \"</code>\\n\"+\n",
              "     \"</div>\"}};\n",
              "\n",
              "  function display_loaded() {\n",
              "    const el = document.getElementById(null);\n",
              "    if (el != null) {\n",
              "      el.textContent = \"BokehJS is loading...\";\n",
              "    }\n",
              "    if (root.Bokeh !== undefined) {\n",
              "      if (el != null) {\n",
              "        el.textContent = \"BokehJS \" + root.Bokeh.version + \" successfully loaded.\";\n",
              "      }\n",
              "    } else if (Date.now() < root._bokeh_timeout) {\n",
              "      setTimeout(display_loaded, 100)\n",
              "    }\n",
              "  }\n",
              "\n",
              "  function run_callbacks() {\n",
              "    try {\n",
              "      root._bokeh_onload_callbacks.forEach(function(callback) {\n",
              "        if (callback != null)\n",
              "          callback();\n",
              "      });\n",
              "    } finally {\n",
              "      delete root._bokeh_onload_callbacks\n",
              "    }\n",
              "    console.debug(\"Bokeh: all callbacks have finished\");\n",
              "  }\n",
              "\n",
              "  function load_libs(css_urls, js_urls, callback) {\n",
              "    if (css_urls == null) css_urls = [];\n",
              "    if (js_urls == null) js_urls = [];\n",
              "\n",
              "    root._bokeh_onload_callbacks.push(callback);\n",
              "    if (root._bokeh_is_loading > 0) {\n",
              "      console.debug(\"Bokeh: BokehJS is being loaded, scheduling callback at\", now());\n",
              "      return null;\n",
              "    }\n",
              "    if (js_urls == null || js_urls.length === 0) {\n",
              "      run_callbacks();\n",
              "      return null;\n",
              "    }\n",
              "    console.debug(\"Bokeh: BokehJS not loaded, scheduling load and callback at\", now());\n",
              "    root._bokeh_is_loading = css_urls.length + js_urls.length;\n",
              "\n",
              "    function on_load() {\n",
              "      root._bokeh_is_loading--;\n",
              "      if (root._bokeh_is_loading === 0) {\n",
              "        console.debug(\"Bokeh: all BokehJS libraries/stylesheets loaded\");\n",
              "        run_callbacks()\n",
              "      }\n",
              "    }\n",
              "\n",
              "    function on_error(url) {\n",
              "      console.error(\"failed to load \" + url);\n",
              "    }\n",
              "\n",
              "    for (let i = 0; i < css_urls.length; i++) {\n",
              "      const url = css_urls[i];\n",
              "      const element = document.createElement(\"link\");\n",
              "      element.onload = on_load;\n",
              "      element.onerror = on_error.bind(null, url);\n",
              "      element.rel = \"stylesheet\";\n",
              "      element.type = \"text/css\";\n",
              "      element.href = url;\n",
              "      console.debug(\"Bokeh: injecting link tag for BokehJS stylesheet: \", url);\n",
              "      document.body.appendChild(element);\n",
              "    }\n",
              "\n",
              "    for (let i = 0; i < js_urls.length; i++) {\n",
              "      const url = js_urls[i];\n",
              "      const element = document.createElement('script');\n",
              "      element.onload = on_load;\n",
              "      element.onerror = on_error.bind(null, url);\n",
              "      element.async = false;\n",
              "      element.src = url;\n",
              "      console.debug(\"Bokeh: injecting script tag for BokehJS library: \", url);\n",
              "      document.head.appendChild(element);\n",
              "    }\n",
              "  };\n",
              "\n",
              "  function inject_raw_css(css) {\n",
              "    const element = document.createElement(\"style\");\n",
              "    element.appendChild(document.createTextNode(css));\n",
              "    document.body.appendChild(element);\n",
              "  }\n",
              "\n",
              "  const js_urls = [\"https://cdn.bokeh.org/bokeh/release/bokeh-3.3.4.min.js\", \"https://cdn.bokeh.org/bokeh/release/bokeh-gl-3.3.4.min.js\", \"https://cdn.bokeh.org/bokeh/release/bokeh-widgets-3.3.4.min.js\", \"https://cdn.bokeh.org/bokeh/release/bokeh-tables-3.3.4.min.js\", \"https://cdn.bokeh.org/bokeh/release/bokeh-mathjax-3.3.4.min.js\"];\n",
              "  const css_urls = [];\n",
              "\n",
              "  const inline_js = [    function(Bokeh) {\n",
              "      Bokeh.set_log_level(\"info\");\n",
              "    },\n",
              "function(Bokeh) {\n",
              "    }\n",
              "  ];\n",
              "\n",
              "  function run_inline_js() {\n",
              "    if (root.Bokeh !== undefined || force === true) {\n",
              "          for (let i = 0; i < inline_js.length; i++) {\n",
              "      inline_js[i].call(root, root.Bokeh);\n",
              "    }\n",
              "} else if (Date.now() < root._bokeh_timeout) {\n",
              "      setTimeout(run_inline_js, 100);\n",
              "    } else if (!root._bokeh_failed_load) {\n",
              "      console.log(\"Bokeh: BokehJS failed to load within specified timeout.\");\n",
              "      root._bokeh_failed_load = true;\n",
              "    } else if (force !== true) {\n",
              "      const cell = $(document.getElementById(null)).parents('.cell').data().cell;\n",
              "      cell.output_area.append_execute_result(NB_LOAD_WARNING)\n",
              "    }\n",
              "  }\n",
              "\n",
              "  if (root._bokeh_is_loading === 0) {\n",
              "    console.debug(\"Bokeh: BokehJS loaded, going straight to plotting\");\n",
              "    run_inline_js();\n",
              "  } else {\n",
              "    load_libs(css_urls, js_urls, function() {\n",
              "      console.debug(\"Bokeh: BokehJS plotting callback run at\", now());\n",
              "      run_inline_js();\n",
              "    });\n",
              "  }\n",
              "}(window));"
            ],
            "application/vnd.bokehjs_load.v0+json": "(function(root) {\n  function now() {\n    return new Date();\n  }\n\n  const force = true;\n\n  if (typeof root._bokeh_onload_callbacks === \"undefined\" || force === true) {\n    root._bokeh_onload_callbacks = [];\n    root._bokeh_is_loading = undefined;\n  }\n\n\n  if (typeof (root._bokeh_timeout) === \"undefined\" || force === true) {\n    root._bokeh_timeout = Date.now() + 5000;\n    root._bokeh_failed_load = false;\n  }\n\n  const NB_LOAD_WARNING = {'data': {'text/html':\n     \"<div style='background-color: #fdd'>\\n\"+\n     \"<p>\\n\"+\n     \"BokehJS does not appear to have successfully loaded. If loading BokehJS from CDN, this \\n\"+\n     \"may be due to a slow or bad network connection. Possible fixes:\\n\"+\n     \"</p>\\n\"+\n     \"<ul>\\n\"+\n     \"<li>re-rerun `output_notebook()` to attempt to load from CDN again, or</li>\\n\"+\n     \"<li>use INLINE resources instead, as so:</li>\\n\"+\n     \"</ul>\\n\"+\n     \"<code>\\n\"+\n     \"from bokeh.resources import INLINE\\n\"+\n     \"output_notebook(resources=INLINE)\\n\"+\n     \"</code>\\n\"+\n     \"</div>\"}};\n\n  function display_loaded() {\n    const el = document.getElementById(null);\n    if (el != null) {\n      el.textContent = \"BokehJS is loading...\";\n    }\n    if (root.Bokeh !== undefined) {\n      if (el != null) {\n        el.textContent = \"BokehJS \" + root.Bokeh.version + \" successfully loaded.\";\n      }\n    } else if (Date.now() < root._bokeh_timeout) {\n      setTimeout(display_loaded, 100)\n    }\n  }\n\n  function run_callbacks() {\n    try {\n      root._bokeh_onload_callbacks.forEach(function(callback) {\n        if (callback != null)\n          callback();\n      });\n    } finally {\n      delete root._bokeh_onload_callbacks\n    }\n    console.debug(\"Bokeh: all callbacks have finished\");\n  }\n\n  function load_libs(css_urls, js_urls, callback) {\n    if (css_urls == null) css_urls = [];\n    if (js_urls == null) js_urls = [];\n\n    root._bokeh_onload_callbacks.push(callback);\n    if (root._bokeh_is_loading > 0) {\n      console.debug(\"Bokeh: BokehJS is being loaded, scheduling callback at\", now());\n      return null;\n    }\n    if (js_urls == null || js_urls.length === 0) {\n      run_callbacks();\n      return null;\n    }\n    console.debug(\"Bokeh: BokehJS not loaded, scheduling load and callback at\", now());\n    root._bokeh_is_loading = css_urls.length + js_urls.length;\n\n    function on_load() {\n      root._bokeh_is_loading--;\n      if (root._bokeh_is_loading === 0) {\n        console.debug(\"Bokeh: all BokehJS libraries/stylesheets loaded\");\n        run_callbacks()\n      }\n    }\n\n    function on_error(url) {\n      console.error(\"failed to load \" + url);\n    }\n\n    for (let i = 0; i < css_urls.length; i++) {\n      const url = css_urls[i];\n      const element = document.createElement(\"link\");\n      element.onload = on_load;\n      element.onerror = on_error.bind(null, url);\n      element.rel = \"stylesheet\";\n      element.type = \"text/css\";\n      element.href = url;\n      console.debug(\"Bokeh: injecting link tag for BokehJS stylesheet: \", url);\n      document.body.appendChild(element);\n    }\n\n    for (let i = 0; i < js_urls.length; i++) {\n      const url = js_urls[i];\n      const element = document.createElement('script');\n      element.onload = on_load;\n      element.onerror = on_error.bind(null, url);\n      element.async = false;\n      element.src = url;\n      console.debug(\"Bokeh: injecting script tag for BokehJS library: \", url);\n      document.head.appendChild(element);\n    }\n  };\n\n  function inject_raw_css(css) {\n    const element = document.createElement(\"style\");\n    element.appendChild(document.createTextNode(css));\n    document.body.appendChild(element);\n  }\n\n  const js_urls = [\"https://cdn.bokeh.org/bokeh/release/bokeh-3.3.4.min.js\", \"https://cdn.bokeh.org/bokeh/release/bokeh-gl-3.3.4.min.js\", \"https://cdn.bokeh.org/bokeh/release/bokeh-widgets-3.3.4.min.js\", \"https://cdn.bokeh.org/bokeh/release/bokeh-tables-3.3.4.min.js\", \"https://cdn.bokeh.org/bokeh/release/bokeh-mathjax-3.3.4.min.js\"];\n  const css_urls = [];\n\n  const inline_js = [    function(Bokeh) {\n      Bokeh.set_log_level(\"info\");\n    },\nfunction(Bokeh) {\n    }\n  ];\n\n  function run_inline_js() {\n    if (root.Bokeh !== undefined || force === true) {\n          for (let i = 0; i < inline_js.length; i++) {\n      inline_js[i].call(root, root.Bokeh);\n    }\n} else if (Date.now() < root._bokeh_timeout) {\n      setTimeout(run_inline_js, 100);\n    } else if (!root._bokeh_failed_load) {\n      console.log(\"Bokeh: BokehJS failed to load within specified timeout.\");\n      root._bokeh_failed_load = true;\n    } else if (force !== true) {\n      const cell = $(document.getElementById(null)).parents('.cell').data().cell;\n      cell.output_area.append_execute_result(NB_LOAD_WARNING)\n    }\n  }\n\n  if (root._bokeh_is_loading === 0) {\n    console.debug(\"Bokeh: BokehJS loaded, going straight to plotting\");\n    run_inline_js();\n  } else {\n    load_libs(css_urls, js_urls, function() {\n      console.debug(\"Bokeh: BokehJS plotting callback run at\", now());\n      run_inline_js();\n    });\n  }\n}(window));"
          },
          "metadata": {}
        },
        {
          "output_type": "display_data",
          "data": {
            "text/html": [
              "\n",
              "  <div id=\"aa9d5a32-dbb7-4cc8-8155-efd3e5b7981a\" data-root-id=\"p1001\" style=\"display: contents;\"></div>\n"
            ]
          },
          "metadata": {}
        },
        {
          "output_type": "display_data",
          "data": {
            "application/javascript": [
              "(function(root) {\n",
              "  function embed_document(root) {\n",
              "  const docs_json = {\"42d3f3a7-f56e-4498-8856-592bc2c0fdee\":{\"version\":\"3.3.4\",\"title\":\"Bokeh Application\",\"roots\":[{\"type\":\"object\",\"name\":\"Figure\",\"id\":\"p1001\",\"attributes\":{\"width\":400,\"height\":400,\"x_range\":{\"type\":\"object\",\"name\":\"DataRange1d\",\"id\":\"p1002\"},\"y_range\":{\"type\":\"object\",\"name\":\"DataRange1d\",\"id\":\"p1003\"},\"x_scale\":{\"type\":\"object\",\"name\":\"LinearScale\",\"id\":\"p1011\"},\"y_scale\":{\"type\":\"object\",\"name\":\"LinearScale\",\"id\":\"p1012\"},\"title\":{\"type\":\"object\",\"name\":\"Title\",\"id\":\"p1004\",\"attributes\":{\"text\":\"-log10(x)\"}},\"renderers\":[{\"type\":\"object\",\"name\":\"GlyphRenderer\",\"id\":\"p1041\",\"attributes\":{\"data_source\":{\"type\":\"object\",\"name\":\"ColumnDataSource\",\"id\":\"p1035\",\"attributes\":{\"selected\":{\"type\":\"object\",\"name\":\"Selection\",\"id\":\"p1036\",\"attributes\":{\"indices\":[],\"line_indices\":[]}},\"selection_policy\":{\"type\":\"object\",\"name\":\"UnionRenderers\",\"id\":\"p1037\"},\"data\":{\"type\":\"map\",\"entries\":[[\"x\",{\"type\":\"ndarray\",\"array\":{\"type\":\"bytes\",\"data\":\"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\"},\"shape\":[400],\"dtype\":\"float64\",\"order\":\"little\"}],[\"y\",{\"type\":\"ndarray\",\"array\":{\"type\":\"bytes\",\"data\":\"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\"},\"shape\":[400],\"dtype\":\"float64\",\"order\":\"little\"}]]}}},\"view\":{\"type\":\"object\",\"name\":\"CDSView\",\"id\":\"p1042\",\"attributes\":{\"filter\":{\"type\":\"object\",\"name\":\"AllIndices\",\"id\":\"p1043\"}}},\"glyph\":{\"type\":\"object\",\"name\":\"Line\",\"id\":\"p1038\",\"attributes\":{\"x\":{\"type\":\"field\",\"field\":\"x\"},\"y\":{\"type\":\"field\",\"field\":\"y\"},\"line_color\":\"#1f77b4\"}},\"nonselection_glyph\":{\"type\":\"object\",\"name\":\"Line\",\"id\":\"p1039\",\"attributes\":{\"x\":{\"type\":\"field\",\"field\":\"x\"},\"y\":{\"type\":\"field\",\"field\":\"y\"},\"line_color\":\"#1f77b4\",\"line_alpha\":0.1}},\"muted_glyph\":{\"type\":\"object\",\"name\":\"Line\",\"id\":\"p1040\",\"attributes\":{\"x\":{\"type\":\"field\",\"field\":\"x\"},\"y\":{\"type\":\"field\",\"field\":\"y\"},\"line_color\":\"#1f77b4\",\"line_alpha\":0.2}}}}],\"toolbar\":{\"type\":\"object\",\"name\":\"Toolbar\",\"id\":\"p1010\",\"attributes\":{\"tools\":[{\"type\":\"object\",\"name\":\"PanTool\",\"id\":\"p1023\"},{\"type\":\"object\",\"name\":\"WheelZoomTool\",\"id\":\"p1024\",\"attributes\":{\"renderers\":\"auto\"}},{\"type\":\"object\",\"name\":\"BoxZoomTool\",\"id\":\"p1025\",\"attributes\":{\"overlay\":{\"type\":\"object\",\"name\":\"BoxAnnotation\",\"id\":\"p1026\",\"attributes\":{\"syncable\":false,\"level\":\"overlay\",\"visible\":false,\"left\":{\"type\":\"number\",\"value\":\"nan\"},\"right\":{\"type\":\"number\",\"value\":\"nan\"},\"top\":{\"type\":\"number\",\"value\":\"nan\"},\"bottom\":{\"type\":\"number\",\"value\":\"nan\"},\"left_units\":\"canvas\",\"right_units\":\"canvas\",\"top_units\":\"canvas\",\"bottom_units\":\"canvas\",\"line_color\":\"black\",\"line_alpha\":1.0,\"line_width\":2,\"line_dash\":[4,4],\"fill_color\":\"lightgrey\",\"fill_alpha\":0.5}}}},{\"type\":\"object\",\"name\":\"SaveTool\",\"id\":\"p1031\"},{\"type\":\"object\",\"name\":\"ResetTool\",\"id\":\"p1032\"},{\"type\":\"object\",\"name\":\"HelpTool\",\"id\":\"p1033\"},{\"type\":\"object\",\"name\":\"HoverTool\",\"id\":\"p1034\",\"attributes\":{\"renderers\":\"auto\",\"tooltips\":[[\"index\",\"$index\"],[\"(x,y)\",\"($x, $y)\"]]}}]}},\"left\":[{\"type\":\"object\",\"name\":\"LinearAxis\",\"id\":\"p1018\",\"attributes\":{\"ticker\":{\"type\":\"object\",\"name\":\"BasicTicker\",\"id\":\"p1019\",\"attributes\":{\"mantissas\":[1,2,5]}},\"formatter\":{\"type\":\"object\",\"name\":\"BasicTickFormatter\",\"id\":\"p1020\"},\"axis_label\":\"-log10(x)\",\"major_label_policy\":{\"type\":\"object\",\"name\":\"AllLabels\",\"id\":\"p1021\"}}}],\"below\":[{\"type\":\"object\",\"name\":\"LinearAxis\",\"id\":\"p1013\",\"attributes\":{\"ticker\":{\"type\":\"object\",\"name\":\"BasicTicker\",\"id\":\"p1014\",\"attributes\":{\"mantissas\":[1,2,5]}},\"formatter\":{\"type\":\"object\",\"name\":\"BasicTickFormatter\",\"id\":\"p1015\"},\"axis_label\":\"x\",\"major_label_policy\":{\"type\":\"object\",\"name\":\"AllLabels\",\"id\":\"p1016\"}}}],\"center\":[{\"type\":\"object\",\"name\":\"Grid\",\"id\":\"p1017\",\"attributes\":{\"axis\":{\"id\":\"p1013\"}}},{\"type\":\"object\",\"name\":\"Grid\",\"id\":\"p1022\",\"attributes\":{\"dimension\":1,\"axis\":{\"id\":\"p1018\"}}}]}}]}};\n",
              "  const render_items = [{\"docid\":\"42d3f3a7-f56e-4498-8856-592bc2c0fdee\",\"roots\":{\"p1001\":\"aa9d5a32-dbb7-4cc8-8155-efd3e5b7981a\"},\"root_ids\":[\"p1001\"]}];\n",
              "  root.Bokeh.embed.embed_items_notebook(docs_json, render_items);\n",
              "  }\n",
              "  if (root.Bokeh !== undefined) {\n",
              "    embed_document(root);\n",
              "  } else {\n",
              "    let attempts = 0;\n",
              "    const timer = setInterval(function(root) {\n",
              "      if (root.Bokeh !== undefined) {\n",
              "        clearInterval(timer);\n",
              "        embed_document(root);\n",
              "      } else {\n",
              "        attempts++;\n",
              "        if (attempts > 100) {\n",
              "          clearInterval(timer);\n",
              "          console.log(\"Bokeh: ERROR: Unable to run BokehJS code because BokehJS library is missing\");\n",
              "        }\n",
              "      }\n",
              "    }, 10, root)\n",
              "  }\n",
              "})(window);"
            ],
            "application/vnd.bokehjs_exec.v0+json": ""
          },
          "metadata": {
            "application/vnd.bokehjs_exec.v0+json": {
              "id": "p1001"
            }
          }
        }
      ]
    },
    {
      "cell_type": "code",
      "source": [
        "# Prediction probabilities and targets\n",
        "targets = torch.tensor([1, 0, 1, 1, 0], dtype=torch.float)\n",
        "predicted_probs = torch.tensor([0.9, 0.1, 0.8, 0.7, 0.2])\n",
        "\n",
        "# Binary Cross Entropy Loss\n",
        "bce_loss = nn.BCELoss()\n",
        "loss = bce_loss(predicted_probs, targets)\n",
        "\n",
        "print(loss)\n"
      ],
      "metadata": {
        "colab": {
          "base_uri": "https://localhost:8080/"
        },
        "id": "LEvNKmdeAgPb",
        "outputId": "8966479b-4b5c-41b2-c59f-07a747b2bc18"
      },
      "execution_count": null,
      "outputs": [
        {
          "output_type": "stream",
          "name": "stdout",
          "text": [
            "tensor(0.2027)\n"
          ]
        }
      ]
    },
    {
      "cell_type": "code",
      "source": [],
      "metadata": {
        "id": "0Ijfg_bsAhJb"
      },
      "execution_count": null,
      "outputs": []
    },
    {
      "cell_type": "markdown",
      "source": [
        "#Cross entrophy loss\n",
        "\n",
        "- Usually used when the output labels have more than once class\n",
        "- E.g. If you want to classify if a given image is a cat, dog, elephant, zebra\n",
        "- Now you have 4 classes and the output would look something like this.\n",
        "\n",
        "  ```[0.9, 0.04, 0.04, 0.02]```\n",
        "which means model is predicting that the image is a\n",
        "  - **Cat** with 90% certainity,\n",
        "  - 4% Dog,\n",
        "  - 4% its an Elephant, and\n",
        "  - 2% certain that is a Zebra"
      ],
      "metadata": {
        "id": "9Vh8UUAiDKuG"
      }
    },
    {
      "cell_type": "code",
      "source": [
        "# Example of target with class indices\n",
        "ce_loss = nn.CrossEntropyLoss()\n",
        "input = torch.tensor([[0.5607, -0.7322, 1.4033, -0.3852]])\n",
        "\n",
        "# sm = nn.Softmax()\n",
        "# input = sm(input)\n",
        "target = torch.empty(1, dtype=torch.long).random_(4)\n",
        "\n",
        "input, target"
      ],
      "metadata": {
        "colab": {
          "base_uri": "https://localhost:8080/"
        },
        "id": "86Sj4bEbFyof",
        "outputId": "ac0a6267-3908-4eb6-d962-1e665938071a"
      },
      "execution_count": null,
      "outputs": [
        {
          "output_type": "execute_result",
          "data": {
            "text/plain": [
              "(tensor([[ 0.5607, -0.7322,  1.4033, -0.3852]]), tensor([2]))"
            ]
          },
          "metadata": {},
          "execution_count": 51
        }
      ]
    },
    {
      "cell_type": "code",
      "source": [
        "output = ce_loss(input, target)\n",
        "output"
      ],
      "metadata": {
        "colab": {
          "base_uri": "https://localhost:8080/"
        },
        "id": "ZFflwVKyGn2G",
        "outputId": "0481cda6-acd3-43cd-ad46-4d0a66a8e58b"
      },
      "execution_count": null,
      "outputs": [
        {
          "output_type": "execute_result",
          "data": {
            "text/plain": [
              "tensor(0.5400)"
            ]
          },
          "metadata": {},
          "execution_count": 53
        }
      ]
    },
    {
      "cell_type": "code",
      "source": [
        "\n",
        "sm = nn.Softmax()\n",
        "input = sm(input)\n",
        "input"
      ],
      "metadata": {
        "colab": {
          "base_uri": "https://localhost:8080/"
        },
        "id": "SsRODzaaLZcp",
        "outputId": "6867483f-f8d1-49b7-d1d0-5b770c322cd4"
      },
      "execution_count": null,
      "outputs": [
        {
          "output_type": "stream",
          "name": "stderr",
          "text": [
            "/usr/local/lib/python3.10/dist-packages/torch/nn/modules/module.py:1511: UserWarning: Implicit dimension choice for softmax has been deprecated. Change the call to include dim=X as an argument.\n",
            "  return self._call_impl(*args, **kwargs)\n"
          ]
        },
        {
          "output_type": "execute_result",
          "data": {
            "text/plain": [
              "tensor([[0.2509, 0.0689, 0.5828, 0.0974]])"
            ]
          },
          "metadata": {},
          "execution_count": 54
        }
      ]
    },
    {
      "cell_type": "markdown",
      "source": [
        "###Why Softmax?\n",
        "Now you might say, I can see that 1.4 is maximum, why apply softmax on it?\n",
        "- Softmax is only applied during training not during testing.\n",
        "- Softmax is applied during training because Cross Entrophy takes **LOG** of the output and inorder to have an efficient logrithm, it is important to have a proper probability distribution that sums up to 1.\n"
      ],
      "metadata": {
        "id": "ZEthXH1bLSJ_"
      }
    },
    {
      "cell_type": "code",
      "source": [],
      "metadata": {
        "id": "gUCOb61nLRtX"
      },
      "execution_count": null,
      "outputs": []
    },
    {
      "cell_type": "code",
      "source": [],
      "metadata": {
        "id": "E6oTO1r8LEwO"
      },
      "execution_count": null,
      "outputs": []
    }
  ]
}
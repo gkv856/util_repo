{
  "nbformat": 4,
  "nbformat_minor": 0,
  "metadata": {
    "colab": {
      "provenance": [],
      "toc_visible": true
    },
    "kernelspec": {
      "name": "python3",
      "display_name": "Python 3"
    },
    "language_info": {
      "name": "python"
    }
  },
  "cells": [
    {
      "cell_type": "markdown",
      "source": [
        "# Why Use PyTorch?\n",
        "\n",
        "PyTorch is an open-source machine learning library for Python, developed primarily by Facebook's artificial intelligence research group. The main reason why PyTorch has gained popularity is its complete ease of use and flexibility.\n",
        "\n",
        "![PyTorch Logo](https://upload.wikimedia.org/wikipedia/commons/thumb/c/c6/PyTorch_logo_black.svg/2560px-PyTorch_logo_black.svg.png)\n",
        "\n"
      ],
      "metadata": {
        "id": "afHyozmeRnmX"
      }
    },
    {
      "cell_type": "markdown",
      "source": [
        "## Dynamic Computation Graphs\n",
        "\n",
        "A key feature that differentiates PyTorch from other deep learning libraries is its dynamic computation graph.\n",
        "\n",
        "- A computation graph is an abstract way to represent your mathematical computations which are happening in the code.\n",
        "- The graph is essential as it allows you to not only visualize the computation but also compute the gradients automatically.\n",
        "- [Computation Graph Blog](https://towardsdatascience.com/getting-started-with-pytorch-part-1-understanding-how-automatic-differentiation-works-5008282073ec)\n",
        "\n",
        "In static computation graph (used in libraries like TensorFlow), the graph is defined in advance and then executed. However, in Pytorch:\n",
        "- Operations can be executed immediately, making debugging easier.\n",
        "- The overall experience is closer to the usual Python programming.\n",
        "\n"
      ],
      "metadata": {
        "id": "SmH_jj8pSz6T"
      }
    },
    {
      "cell_type": "markdown",
      "source": [
        "## Role of Differentiation and Chain Rule\n",
        "\n",
        "Differentiation is a crucial part of any deep learning library.\n",
        "\n",
        "- PyTorch uses a technique called automatic differentiation, which numerically evaluates the derivative of a function.\n",
        "- It is beneficial when dealing with complex equations, such as the ones we encounter in deep learning models.\n",
        "\n",
        "The Chain Rule:\n",
        "- It is used for differentiating compositions of functions.\n",
        "- This rule is central to backpropagation which is used for training neural networks.\n",
        "- The ability to compute gradients or derivatives of our error or loss with respect to our model's parameters, using the chain rule, allows us to optimize our model."
      ],
      "metadata": {
        "id": "N8wWbHhNThRg"
      }
    },
    {
      "cell_type": "markdown",
      "source": [
        "# A Beginner's Guide to Tensors\n",
        "\n",
        "## What is a Tensor?\n",
        "\n",
        "Just as kids can arrange their toys in many ways, data in computing can also be arranged in various forms. Imagine you're in a toy store.\n",
        "\n",
        "- An action figure sitting alone represents a single number, also known as a **scalar** in mathematics. A scalar only has a magnitude (its price in our case).\n",
        "- Action figures arranged in a row represent a one-dimensional array, popularly known as a **vector** in computing and mathematics.\n",
        "- Multiple rows and columns of action figures showcased in a glass box constitute a two-dimensional array or a **matrix**.\n",
        "- And lastly, a pile of such glass boxes stacked over each other forms a three-dimensional array, known as a **tensor**.\n",
        "\n",
        "A tensor, in essence, can house data in N dimensions but visualizing dimensions beyond the third one can be quite challenging.\n"
      ],
      "metadata": {
        "id": "-S7OWF95Tpzz"
      }
    },
    {
      "cell_type": "markdown",
      "source": [
        "## Tensors in PyTorch\n",
        "\n",
        "In the context of PyTorch (a popular library for deep learning), a tensor is pretty similar to NumPy's ndarray, and serves as the core data structure of the library.\n",
        "\n",
        "The three main components associated with tensors in PyTorch are:\n",
        "\n",
        "- **Grad**: It holds the value of gradient. PyTorch provides automatic differentiation and gradient computation which is executed when `.backward()` function is called.\n",
        "\n",
        "- **Grad_fn**: It is the backward function through which the gradient has been computed.\n",
        "\n",
        "- **Data**: This gives access to the raw data of the tensor.\n"
      ],
      "metadata": {
        "id": "022MlScSUk7E"
      }
    },
    {
      "cell_type": "markdown",
      "source": [
        "#pyTorch hands on\n"
      ],
      "metadata": {
        "id": "WtUrYn23Rb6J"
      }
    },
    {
      "cell_type": "code",
      "execution_count": 1,
      "metadata": {
        "id": "99UIpL4hNXz5"
      },
      "outputs": [],
      "source": [
        "import torch"
      ]
    },
    {
      "cell_type": "code",
      "source": [
        "l = [1, 2, 3]\n",
        "l, type(l)"
      ],
      "metadata": {
        "colab": {
          "base_uri": "https://localhost:8080/"
        },
        "id": "5RmCcbscW8vx",
        "outputId": "7e40fb23-6f32-4c5d-e009-83e630816da6"
      },
      "execution_count": 2,
      "outputs": [
        {
          "output_type": "execute_result",
          "data": {
            "text/plain": [
              "([1, 2, 3], list)"
            ]
          },
          "metadata": {},
          "execution_count": 2
        }
      ]
    },
    {
      "cell_type": "code",
      "source": [
        "t1 = torch.tensor(l) # list\n",
        "print(t1)"
      ],
      "metadata": {
        "colab": {
          "base_uri": "https://localhost:8080/"
        },
        "id": "TOrpLCqcUsR_",
        "outputId": "d22d69f1-5f4e-4567-d128-4726f9127fa1"
      },
      "execution_count": 3,
      "outputs": [
        {
          "output_type": "stream",
          "name": "stdout",
          "text": [
            "tensor([1, 2, 3])\n"
          ]
        }
      ]
    },
    {
      "cell_type": "code",
      "source": [
        "t2 = torch.tensor([1, 3, 56]) # list\n",
        "t2  # 1d tensor, aka vector"
      ],
      "metadata": {
        "colab": {
          "base_uri": "https://localhost:8080/"
        },
        "id": "dpv8FzozbYi4",
        "outputId": "5e8be3e4-7b28-4837-de5c-56d470cb60c0"
      },
      "execution_count": 4,
      "outputs": [
        {
          "output_type": "execute_result",
          "data": {
            "text/plain": [
              "tensor([ 1,  3, 56])"
            ]
          },
          "metadata": {},
          "execution_count": 4
        }
      ]
    },
    {
      "cell_type": "code",
      "source": [
        "t3 = torch.tensor([[71, 63, 56], [41, 33, 36], [12, 13, 56]]) #matrix or 2d array\n",
        "t3"
      ],
      "metadata": {
        "colab": {
          "base_uri": "https://localhost:8080/"
        },
        "id": "AXKjbfDcsiEs",
        "outputId": "5df7efc3-f442-4a9e-b23c-0fd26403ecc3"
      },
      "execution_count": 5,
      "outputs": [
        {
          "output_type": "execute_result",
          "data": {
            "text/plain": [
              "tensor([[71, 63, 56],\n",
              "        [41, 33, 36],\n",
              "        [12, 13, 56]])"
            ]
          },
          "metadata": {},
          "execution_count": 5
        }
      ]
    },
    {
      "cell_type": "code",
      "source": [
        "t4 = torch.rand((3, 2, 3,  4)) # 4d tensor\n",
        "t4"
      ],
      "metadata": {
        "colab": {
          "base_uri": "https://localhost:8080/"
        },
        "id": "pgwSIp73ajpm",
        "outputId": "97db1848-4fb5-4643-dd70-bda041b44615"
      },
      "execution_count": 6,
      "outputs": [
        {
          "output_type": "execute_result",
          "data": {
            "text/plain": [
              "tensor([[[[0.2711, 0.5325, 0.0667, 0.7627],\n",
              "          [0.6939, 0.4436, 0.0646, 0.9406],\n",
              "          [0.4772, 0.9942, 0.9673, 0.9294]],\n",
              "\n",
              "         [[0.1159, 0.0375, 0.5463, 0.7139],\n",
              "          [0.9652, 0.8298, 0.2032, 0.2123],\n",
              "          [0.7324, 0.1217, 0.8245, 0.0641]]],\n",
              "\n",
              "\n",
              "        [[[0.9040, 0.5370, 0.7815, 0.4725],\n",
              "          [0.4140, 0.5743, 0.1007, 0.2776],\n",
              "          [0.5211, 0.6973, 0.3306, 0.0035]],\n",
              "\n",
              "         [[0.5335, 0.6374, 0.6438, 0.3324],\n",
              "          [0.8386, 0.5532, 0.1005, 0.1302],\n",
              "          [0.6472, 0.0835, 0.6075, 0.9370]]],\n",
              "\n",
              "\n",
              "        [[[0.8247, 0.3982, 0.2856, 0.4714],\n",
              "          [0.1708, 0.3508, 0.5003, 0.2148],\n",
              "          [0.3656, 0.9803, 0.6903, 0.9538]],\n",
              "\n",
              "         [[0.8711, 0.9611, 0.3604, 0.3327],\n",
              "          [0.8302, 0.8938, 0.3753, 0.0151],\n",
              "          [0.3122, 0.2499, 0.4188, 0.8080]]]])"
            ]
          },
          "metadata": {},
          "execution_count": 6
        }
      ]
    },
    {
      "cell_type": "code",
      "source": [
        "t5 = torch.rand((2, 2, 2, 3,  4)) # 5d tensor\n",
        "t5"
      ],
      "metadata": {
        "colab": {
          "base_uri": "https://localhost:8080/"
        },
        "id": "P32Y2M8BUvU4",
        "outputId": "babb1552-d34a-46c1-d8b2-cd0eb0ea8f2a"
      },
      "execution_count": 7,
      "outputs": [
        {
          "output_type": "execute_result",
          "data": {
            "text/plain": [
              "tensor([[[[[0.4159, 0.0592, 0.0559, 0.5674],\n",
              "           [0.5666, 0.0352, 0.9652, 0.8828],\n",
              "           [0.2336, 0.8954, 0.9035, 0.7558]],\n",
              "\n",
              "          [[0.1671, 0.3765, 0.4618, 0.8796],\n",
              "           [0.5110, 0.3395, 0.2673, 0.8305],\n",
              "           [0.0149, 0.9670, 0.0200, 0.3209]]],\n",
              "\n",
              "\n",
              "         [[[0.0341, 0.4285, 0.6979, 0.5017],\n",
              "           [0.4821, 0.4929, 0.5933, 0.5376],\n",
              "           [0.4807, 0.7165, 0.0828, 0.3125]],\n",
              "\n",
              "          [[0.7447, 0.8070, 0.2704, 0.7317],\n",
              "           [0.0670, 0.5016, 0.1057, 0.4898],\n",
              "           [0.9406, 0.5799, 0.4563, 0.1760]]]],\n",
              "\n",
              "\n",
              "\n",
              "        [[[[0.6988, 0.9275, 0.4731, 0.5632],\n",
              "           [0.1305, 0.4814, 0.4525, 0.1024],\n",
              "           [0.4771, 0.0871, 0.6763, 0.2731]],\n",
              "\n",
              "          [[0.9425, 0.6928, 0.1970, 0.2595],\n",
              "           [0.0968, 0.9732, 0.3993, 0.1889],\n",
              "           [0.7184, 0.4649, 0.0021, 0.1680]]],\n",
              "\n",
              "\n",
              "         [[[0.8225, 0.3465, 0.9506, 0.3313],\n",
              "           [0.9457, 0.8236, 0.7229, 0.6946],\n",
              "           [0.4006, 0.2454, 0.6333, 0.2207]],\n",
              "\n",
              "          [[0.2927, 0.6895, 0.8051, 0.3238],\n",
              "           [0.1450, 0.8858, 0.0191, 0.1513],\n",
              "           [0.8875, 0.4842, 0.2144, 0.9804]]]]])"
            ]
          },
          "metadata": {},
          "execution_count": 7
        }
      ]
    },
    {
      "cell_type": "code",
      "source": [
        "t1.shape, t2.shape, t3.shape, t4.shape, t5.shape"
      ],
      "metadata": {
        "colab": {
          "base_uri": "https://localhost:8080/"
        },
        "id": "MS0b_g-RtWJU",
        "outputId": "c2a92f47-8405-4c55-d066-57ec84459db7"
      },
      "execution_count": 8,
      "outputs": [
        {
          "output_type": "execute_result",
          "data": {
            "text/plain": [
              "(torch.Size([3]),\n",
              " torch.Size([3]),\n",
              " torch.Size([3, 3]),\n",
              " torch.Size([3, 2, 3, 4]),\n",
              " torch.Size([2, 2, 2, 3, 4]))"
            ]
          },
          "metadata": {},
          "execution_count": 8
        }
      ]
    },
    {
      "cell_type": "markdown",
      "source": [
        "## Data types in Tensor\n",
        "\n",
        "[All datatypes of Tensor in pyTorch](https://pytorch.org/docs/stable/tensors.html)"
      ],
      "metadata": {
        "id": "tGw6QlVXtV1X"
      }
    },
    {
      "cell_type": "code",
      "source": [
        "t_float = torch.tensor([1, 3, 56], dtype=torch.long) # list\n",
        "t_float"
      ],
      "metadata": {
        "colab": {
          "base_uri": "https://localhost:8080/"
        },
        "id": "OnflUULFthQz",
        "outputId": "30ca7cc5-5e01-45cf-a9ea-08cdfbd2ce9b"
      },
      "execution_count": 9,
      "outputs": [
        {
          "output_type": "execute_result",
          "data": {
            "text/plain": [
              "tensor([ 1,  3, 56])"
            ]
          },
          "metadata": {},
          "execution_count": 9
        }
      ]
    },
    {
      "cell_type": "markdown",
      "source": [
        "##Math Operations on Tensors\n"
      ],
      "metadata": {
        "id": "KeSiYIQkt-ea"
      }
    },
    {
      "cell_type": "code",
      "source": [
        "\n",
        "# common functions\n",
        "a = torch.rand(2, 4) * 2 - 1\n",
        "a"
      ],
      "metadata": {
        "colab": {
          "base_uri": "https://localhost:8080/"
        },
        "id": "fo-m3xsyt80E",
        "outputId": "fc87b758-77cb-44fe-f45c-04a7a421e337"
      },
      "execution_count": 10,
      "outputs": [
        {
          "output_type": "execute_result",
          "data": {
            "text/plain": [
              "tensor([[-0.8709, -0.0640,  0.7953,  0.8383],\n",
              "        [ 0.2413, -0.1402, -0.8101,  0.8598]])"
            ]
          },
          "metadata": {},
          "execution_count": 10
        }
      ]
    },
    {
      "cell_type": "code",
      "source": [
        "\n",
        "print('Common functions:')\n",
        "print(\"Absolute\", torch.abs(a))\n",
        "print(\"Ceiling\", torch.ceil(a))\n",
        "print(\"Floor\", torch.floor(a))\n",
        "print(\"Clamp\", torch.clamp(a, -0.5, 0.5))"
      ],
      "metadata": {
        "colab": {
          "base_uri": "https://localhost:8080/"
        },
        "id": "0qz_7OuZYzXq",
        "outputId": "826b9f7d-b795-467c-8c14-9b1c38839c3f"
      },
      "execution_count": 11,
      "outputs": [
        {
          "output_type": "stream",
          "name": "stdout",
          "text": [
            "Common functions:\n",
            "Absolute tensor([[0.8709, 0.0640, 0.7953, 0.8383],\n",
            "        [0.2413, 0.1402, 0.8101, 0.8598]])\n",
            "Ceiling tensor([[-0., -0., 1., 1.],\n",
            "        [1., -0., -0., 1.]])\n",
            "Floor tensor([[-1., -1.,  0.,  0.],\n",
            "        [ 0., -1., -1.,  0.]])\n",
            "Clamp tensor([[-0.5000, -0.0640,  0.5000,  0.5000],\n",
            "        [ 0.2413, -0.1402, -0.5000,  0.5000]])\n"
          ]
        }
      ]
    },
    {
      "cell_type": "code",
      "source": [
        "import math\n",
        "# trigonometric functions and their inverses\n",
        "angles = torch.tensor([0, math.pi, math.pi / 4, math.pi / 2, 3 * math.pi / 4])\n",
        "sines = torch.sin(angles)\n",
        "inverses = torch.asin(sines)\n",
        "print('\\nSine and arcsine:')\n",
        "print(angles)\n",
        "print(sines)\n",
        "print(inverses)\n"
      ],
      "metadata": {
        "colab": {
          "base_uri": "https://localhost:8080/"
        },
        "id": "TxRgFy-8uVIh",
        "outputId": "db0df658-a066-402d-f0b0-e2e257f51d2f"
      },
      "execution_count": 12,
      "outputs": [
        {
          "output_type": "stream",
          "name": "stdout",
          "text": [
            "\n",
            "Sine and arcsine:\n",
            "tensor([0.0000, 3.1416, 0.7854, 1.5708, 2.3562])\n",
            "tensor([ 0.0000e+00, -8.7423e-08,  7.0711e-01,  1.0000e+00,  7.0711e-01])\n",
            "tensor([ 0.0000e+00, -8.7423e-08,  7.8540e-01,  1.5708e+00,  7.8540e-01])\n"
          ]
        }
      ]
    },
    {
      "cell_type": "code",
      "source": [
        "# comparisons:\n",
        "print('\\nBroadcasted, element-wise equality comparison:')\n",
        "d = torch.tensor([[1., 2.], [3., 4.]])\n",
        "e = torch.ones(1, 2)  # many comparison ops support broadcasting!\n",
        "print(torch.eq(d, e)) # returns a tensor of type bool"
      ],
      "metadata": {
        "colab": {
          "base_uri": "https://localhost:8080/"
        },
        "id": "zfDAk_fXu2vR",
        "outputId": "a4c7ca28-ee81-449c-ea48-e23c300ac3f7"
      },
      "execution_count": 13,
      "outputs": [
        {
          "output_type": "stream",
          "name": "stdout",
          "text": [
            "\n",
            "Broadcasted, element-wise equality comparison:\n",
            "tensor([[ True, False],\n",
            "        [False, False]])\n"
          ]
        }
      ]
    },
    {
      "cell_type": "code",
      "source": [
        "d"
      ],
      "metadata": {
        "colab": {
          "base_uri": "https://localhost:8080/"
        },
        "id": "Sg0o3BTlZZu2",
        "outputId": "d05e73de-0520-4f04-c554-868a07969869"
      },
      "execution_count": 14,
      "outputs": [
        {
          "output_type": "execute_result",
          "data": {
            "text/plain": [
              "tensor([[1., 2.],\n",
              "        [3., 4.]])"
            ]
          },
          "metadata": {},
          "execution_count": 14
        }
      ]
    },
    {
      "cell_type": "code",
      "source": [
        "e"
      ],
      "metadata": {
        "colab": {
          "base_uri": "https://localhost:8080/"
        },
        "id": "rwnPXJMCZbNY",
        "outputId": "660ff469-3eed-48c4-87eb-27c869d3586f"
      },
      "execution_count": 15,
      "outputs": [
        {
          "output_type": "execute_result",
          "data": {
            "text/plain": [
              "tensor([[1., 1.]])"
            ]
          },
          "metadata": {},
          "execution_count": 15
        }
      ]
    },
    {
      "cell_type": "code",
      "source": [],
      "metadata": {
        "id": "26ehVkk0ZcAn"
      },
      "execution_count": 15,
      "outputs": []
    },
    {
      "cell_type": "markdown",
      "source": [
        "##Tensor Reduction/Aggregation\n",
        "\n",
        "\n"
      ],
      "metadata": {
        "id": "-qoABM99u-go"
      }
    },
    {
      "cell_type": "code",
      "source": [
        "d = torch.tensor([[1., 2.], [3., 4.]])\n",
        "d"
      ],
      "metadata": {
        "colab": {
          "base_uri": "https://localhost:8080/"
        },
        "id": "A62aVf6-Zl5H",
        "outputId": "f95c1370-b977-49ae-e689-a0ce096b2a94"
      },
      "execution_count": 16,
      "outputs": [
        {
          "output_type": "execute_result",
          "data": {
            "text/plain": [
              "tensor([[1., 2.],\n",
              "        [3., 4.]])"
            ]
          },
          "metadata": {},
          "execution_count": 16
        }
      ]
    },
    {
      "cell_type": "code",
      "source": [
        "# reductions:\n",
        "\n",
        "print('\\nReduction ops:')\n",
        "print(torch.max(d))        # returns a single-element tensor\n",
        "print(torch.max(d).item()) # extracts the value from the returned tensor\n",
        "print(torch.mean(d))       # average\n",
        "print(torch.std(d))        # standard deviation\n",
        "print(torch.prod(d))       # product of all numbers\n",
        "print(torch.unique(torch.tensor([1, 2, 1, 2, 1, 2]))) # filter unique elements"
      ],
      "metadata": {
        "colab": {
          "base_uri": "https://localhost:8080/"
        },
        "id": "_Q-BLk2mu3bu",
        "outputId": "4eab7fe1-07b4-4814-9262-b665cd80514f"
      },
      "execution_count": 17,
      "outputs": [
        {
          "output_type": "stream",
          "name": "stdout",
          "text": [
            "\n",
            "Reduction ops:\n",
            "tensor(4.)\n",
            "4.0\n",
            "tensor(2.5000)\n",
            "tensor(1.2910)\n",
            "tensor(24.)\n",
            "tensor([1, 2])\n"
          ]
        }
      ]
    },
    {
      "cell_type": "markdown",
      "source": [
        "##Tensor Reduction/Aggregation along rows and columns\n",
        "\n"
      ],
      "metadata": {
        "id": "9pCEQ3_wvZXa"
      }
    },
    {
      "cell_type": "code",
      "source": [
        "# reductions:\n",
        "d = torch.tensor([[1., 2.], [3., 4.]])\n",
        "print('\\nReduction ops:')\n",
        "print(torch.mean(d))       # average\n",
        "print(torch.mean(d, dim=1))       # average each row\n",
        "print(torch.mean(d, dim=0))       # average each col"
      ],
      "metadata": {
        "colab": {
          "base_uri": "https://localhost:8080/"
        },
        "id": "cxZYA0Fxvdhy",
        "outputId": "53af6a64-8935-4985-817c-215335a95212"
      },
      "execution_count": 18,
      "outputs": [
        {
          "output_type": "stream",
          "name": "stdout",
          "text": [
            "\n",
            "Reduction ops:\n",
            "tensor(2.5000)\n",
            "tensor([1.5000, 3.5000])\n",
            "tensor([2., 3.])\n"
          ]
        }
      ]
    },
    {
      "cell_type": "code",
      "source": [
        "d"
      ],
      "metadata": {
        "colab": {
          "base_uri": "https://localhost:8080/"
        },
        "id": "BszUeWXGZ51s",
        "outputId": "667e6e90-ccaf-430f-d83e-42f31c6d5dfc"
      },
      "execution_count": 19,
      "outputs": [
        {
          "output_type": "execute_result",
          "data": {
            "text/plain": [
              "tensor([[1., 2.],\n",
              "        [3., 4.]])"
            ]
          },
          "metadata": {},
          "execution_count": 19
        }
      ]
    },
    {
      "cell_type": "markdown",
      "source": [
        "#Manipulating Tensor Shapes\n",
        "- This is the one of the most important if not the most important topic."
      ],
      "metadata": {
        "id": "k7rsfYHWRbVx"
      }
    },
    {
      "cell_type": "code",
      "source": [
        "a = torch.rand(2, 3, 4)\n",
        "a.shape\n"
      ],
      "metadata": {
        "colab": {
          "base_uri": "https://localhost:8080/"
        },
        "id": "s8QZ3WwxwSLM",
        "outputId": "d3ec2eef-f6c8-49ee-c0a2-532f792fed5a"
      },
      "execution_count": 20,
      "outputs": [
        {
          "output_type": "execute_result",
          "data": {
            "text/plain": [
              "torch.Size([2, 3, 4])"
            ]
          },
          "metadata": {},
          "execution_count": 20
        }
      ]
    },
    {
      "cell_type": "code",
      "source": [
        "a"
      ],
      "metadata": {
        "colab": {
          "base_uri": "https://localhost:8080/"
        },
        "id": "dq98um-52YG2",
        "outputId": "ca2dec6f-5327-4a2e-f786-329092d4b80b"
      },
      "execution_count": 21,
      "outputs": [
        {
          "output_type": "execute_result",
          "data": {
            "text/plain": [
              "tensor([[[0.0784, 0.7746, 0.2177, 0.9592],\n",
              "         [0.3998, 0.0689, 0.0351, 0.4325],\n",
              "         [0.7645, 0.4277, 0.2615, 0.3540]],\n",
              "\n",
              "        [[0.1413, 0.5714, 0.0770, 0.1342],\n",
              "         [0.9489, 0.6592, 0.5160, 0.6475],\n",
              "         [0.3972, 0.7820, 0.1910, 0.9347]]])"
            ]
          },
          "metadata": {},
          "execution_count": 21
        }
      ]
    },
    {
      "cell_type": "code",
      "source": [
        "a.view(-1, 1).shape, a.view(-1, 2).shape"
      ],
      "metadata": {
        "colab": {
          "base_uri": "https://localhost:8080/"
        },
        "id": "8BZMdkuq2ZvW",
        "outputId": "5c331dfd-5017-4c91-de44-0fdb19b6993e"
      },
      "execution_count": 22,
      "outputs": [
        {
          "output_type": "execute_result",
          "data": {
            "text/plain": [
              "(torch.Size([24, 1]), torch.Size([12, 2]))"
            ]
          },
          "metadata": {},
          "execution_count": 22
        }
      ]
    },
    {
      "cell_type": "code",
      "source": [
        "a.view(-1, 2)"
      ],
      "metadata": {
        "colab": {
          "base_uri": "https://localhost:8080/"
        },
        "id": "tI-4cQvBaLQm",
        "outputId": "1f3d76a7-7398-428e-d822-9f29dc8113e3"
      },
      "execution_count": 23,
      "outputs": [
        {
          "output_type": "execute_result",
          "data": {
            "text/plain": [
              "tensor([[0.0784, 0.7746],\n",
              "        [0.2177, 0.9592],\n",
              "        [0.3998, 0.0689],\n",
              "        [0.0351, 0.4325],\n",
              "        [0.7645, 0.4277],\n",
              "        [0.2615, 0.3540],\n",
              "        [0.1413, 0.5714],\n",
              "        [0.0770, 0.1342],\n",
              "        [0.9489, 0.6592],\n",
              "        [0.5160, 0.6475],\n",
              "        [0.3972, 0.7820],\n",
              "        [0.1910, 0.9347]])"
            ]
          },
          "metadata": {},
          "execution_count": 23
        }
      ]
    },
    {
      "cell_type": "code",
      "source": [
        "# you dont need -1 all the time, if you know the exact dim, then you can use that\n",
        "# 2x3x4 = total 24\n",
        "\n",
        "a.view(4, 6), a.view(4, 6).shape"
      ],
      "metadata": {
        "colab": {
          "base_uri": "https://localhost:8080/"
        },
        "id": "JAwldLoH2br4",
        "outputId": "ef0e7469-6dba-478b-ff7e-0ff4d819adea"
      },
      "execution_count": 24,
      "outputs": [
        {
          "output_type": "execute_result",
          "data": {
            "text/plain": [
              "(tensor([[0.0784, 0.7746, 0.2177, 0.9592, 0.3998, 0.0689],\n",
              "         [0.0351, 0.4325, 0.7645, 0.4277, 0.2615, 0.3540],\n",
              "         [0.1413, 0.5714, 0.0770, 0.1342, 0.9489, 0.6592],\n",
              "         [0.5160, 0.6475, 0.3972, 0.7820, 0.1910, 0.9347]]),\n",
              " torch.Size([4, 6]))"
            ]
          },
          "metadata": {},
          "execution_count": 24
        }
      ]
    },
    {
      "cell_type": "code",
      "source": [
        "# you dont need -1 all the time, if you know the exact dim, then you can use that\n",
        "# 2x3x4 = total 24\n",
        "\n",
        "a.view(4, 10)"
      ],
      "metadata": {
        "colab": {
          "base_uri": "https://localhost:8080/",
          "height": 176
        },
        "id": "J4EH2Flv3JJC",
        "outputId": "488045d6-7b27-4e35-c7e6-c6f1e48e52ad"
      },
      "execution_count": 25,
      "outputs": [
        {
          "output_type": "error",
          "ename": "RuntimeError",
          "evalue": "shape '[4, 10]' is invalid for input of size 24",
          "traceback": [
            "\u001b[0;31m---------------------------------------------------------------------------\u001b[0m",
            "\u001b[0;31mRuntimeError\u001b[0m                              Traceback (most recent call last)",
            "\u001b[0;32m<ipython-input-25-21b097f6e71c>\u001b[0m in \u001b[0;36m<cell line: 4>\u001b[0;34m()\u001b[0m\n\u001b[1;32m      2\u001b[0m \u001b[0;31m# 2x3x4 = total 24\u001b[0m\u001b[0;34m\u001b[0m\u001b[0;34m\u001b[0m\u001b[0m\n\u001b[1;32m      3\u001b[0m \u001b[0;34m\u001b[0m\u001b[0m\n\u001b[0;32m----> 4\u001b[0;31m \u001b[0ma\u001b[0m\u001b[0;34m.\u001b[0m\u001b[0mview\u001b[0m\u001b[0;34m(\u001b[0m\u001b[0;36m4\u001b[0m\u001b[0;34m,\u001b[0m \u001b[0;36m10\u001b[0m\u001b[0;34m)\u001b[0m\u001b[0;34m\u001b[0m\u001b[0;34m\u001b[0m\u001b[0m\n\u001b[0m",
            "\u001b[0;31mRuntimeError\u001b[0m: shape '[4, 10]' is invalid for input of size 24"
          ]
        }
      ]
    },
    {
      "cell_type": "markdown",
      "source": [
        "# Rand vs Randn\n",
        "- Rand gives random number from 0 to 1\n",
        "- Randn also gives random number from a normal distribution where mean is 0 and variance of 1"
      ],
      "metadata": {
        "id": "dXpztlFARh5-"
      }
    },
    {
      "cell_type": "code",
      "source": [
        "torch.manual_seed(42)\n",
        "torch.rand(2, 3)"
      ],
      "metadata": {
        "colab": {
          "base_uri": "https://localhost:8080/"
        },
        "id": "N6bNSG563vdT",
        "outputId": "833a4bbb-45c8-49c8-98c8-83b089954540"
      },
      "execution_count": 26,
      "outputs": [
        {
          "output_type": "execute_result",
          "data": {
            "text/plain": [
              "tensor([[0.8823, 0.9150, 0.3829],\n",
              "        [0.9593, 0.3904, 0.6009]])"
            ]
          },
          "metadata": {},
          "execution_count": 26
        }
      ]
    },
    {
      "cell_type": "code",
      "source": [
        "torch.randn(2, 3)"
      ],
      "metadata": {
        "colab": {
          "base_uri": "https://localhost:8080/"
        },
        "id": "4cvMJKKN3yX3",
        "outputId": "e708f557-9613-4f05-8672-cac4b68cacd5"
      },
      "execution_count": 27,
      "outputs": [
        {
          "output_type": "execute_result",
          "data": {
            "text/plain": [
              "tensor([[ 1.1561,  0.3965, -2.4661],\n",
              "        [ 0.3623,  0.3765, -0.1808]])"
            ]
          },
          "metadata": {},
          "execution_count": 27
        }
      ]
    },
    {
      "cell_type": "code",
      "source": [
        "# random integers between 3 and 10, 10 excluded of the provided shape\n",
        "x = torch.randint(3, 10, (3, 4))\n",
        "x"
      ],
      "metadata": {
        "colab": {
          "base_uri": "https://localhost:8080/"
        },
        "id": "ktsPXQwZ4PjZ",
        "outputId": "876d46ca-1a70-440a-b41d-aad31af09507"
      },
      "execution_count": 28,
      "outputs": [
        {
          "output_type": "execute_result",
          "data": {
            "text/plain": [
              "tensor([[5, 6, 4, 3],\n",
              "        [3, 6, 6, 8],\n",
              "        [4, 4, 5, 5]])"
            ]
          },
          "metadata": {},
          "execution_count": 28
        }
      ]
    },
    {
      "cell_type": "code",
      "source": [
        "torch.numel(x) # number of elements in the tensor, in this case, 3x4 = 12"
      ],
      "metadata": {
        "colab": {
          "base_uri": "https://localhost:8080/"
        },
        "id": "tQMkeWGb7HJw",
        "outputId": "3f67fc84-9b6c-43fe-bce5-73782808b9f2"
      },
      "execution_count": 29,
      "outputs": [
        {
          "output_type": "execute_result",
          "data": {
            "text/plain": [
              "12"
            ]
          },
          "metadata": {},
          "execution_count": 29
        }
      ]
    },
    {
      "cell_type": "markdown",
      "source": [
        "#Zeros, Ones, and Likes\n",
        "\n",
        "# Practical UseCases for PyTorch's `torch.ones`, `zeros`, `like`\n",
        "\n",
        "PyTorch provides several functions to create tensors. Three of them are `torch.ones`, `torch.zeros`, and `torch.ones_like`, `torch.zeros_like`. Let's take a look at practical scenarios where these can be used.\n",
        "\n",
        "## torch.ones\n",
        "\n",
        "`torch.ones` is used to create a tensor filled with the scalar value 1, with the shape defined by the variable argument size.\n",
        "\n",
        "### Use case:\n",
        "- Initialization of bias or weights in a neural network: `torch.ones` can be used fill the weights or bias tensor with initial value of 1.\n",
        "\n",
        "    ```python\n",
        "    bias = torch.ones((10,))\n",
        "    weights = torch.ones((5, 10))\n",
        "    ```\n",
        "\n",
        "- Generation of a mask tensor: For certain operations where we needs apply a mask to all elements.\n",
        "\n",
        "    ```python\n",
        "    mask = torch.ones_like(weights)\n",
        "    ```\n",
        "\n",
        "## torch.zeros\n",
        "\n",
        "`torch.zero` creates a tensor filled with the scalar value 0, with the shape defined by the variable argument size.\n",
        "\n",
        "### Use case:\n",
        "- Creation of a black image or background in computer vision tasks.\n",
        "    ```python\n",
        "    black_img = torch.zeros([256, 256, 3])\n",
        "    ```\n",
        "- Padding values in data analytics.\n",
        "    ```python\n",
        "    padded_sequence = torch.zeros(max_sequence_length, dtype=int)\n",
        "    padded_sequence[:len(sequence)] = torch.tensor(sequence)\n",
        "    ```\n",
        "- In deep learning, to initialize the weights or bias tensor with zeros before training.\n",
        "    ```python\n",
        "    weights = torch.zeros((5, 10))\n",
        "    ```\n",
        "- Generation of a masking tensor.\n",
        "\n",
        "## torch.ones_like and torch.zeros_like\n",
        "\n",
        "These functions come handy when ones need to create a new tensor that has the same size as a given tensor. The new tensor is then filled with ones or zeros respectively.\n",
        "\n",
        "### Use case:\n",
        "\n",
        "```python\n",
        "x = torch.randn((5, 5))\n",
        "\n",
        "# creating tensor with same size as x\n",
        "ones = torch.ones_like(x)\n",
        "zeros = torch.zeros_like(x)\n",
        "```\n",
        "\n",
        "Operations like initializing tensors, creating masks, generating images, and padding sequences are just some of the areas where these functions are vital. Their application is versatile and extend to many other fields of machine learning, deep learning and data analytics."
      ],
      "metadata": {
        "id": "Ao_6gYJc7ahJ"
      }
    },
    {
      "cell_type": "code",
      "source": [
        "ones = torch.ones((2, 4))\n",
        "ones"
      ],
      "metadata": {
        "colab": {
          "base_uri": "https://localhost:8080/"
        },
        "id": "CbQlIIx87Tlv",
        "outputId": "cd715d2a-8087-47d7-c262-38eee1f1d692"
      },
      "execution_count": 30,
      "outputs": [
        {
          "output_type": "execute_result",
          "data": {
            "text/plain": [
              "tensor([[1., 1., 1., 1.],\n",
              "        [1., 1., 1., 1.]])"
            ]
          },
          "metadata": {},
          "execution_count": 30
        }
      ]
    },
    {
      "cell_type": "code",
      "source": [
        "ones = torch.ones((2, 4), dtype=torch.float64)\n",
        "ones"
      ],
      "metadata": {
        "colab": {
          "base_uri": "https://localhost:8080/"
        },
        "id": "S3t_qnKt7iPS",
        "outputId": "6464979a-e24b-4fcc-a2d7-d21d1dbe5b2a"
      },
      "execution_count": 31,
      "outputs": [
        {
          "output_type": "execute_result",
          "data": {
            "text/plain": [
              "tensor([[1., 1., 1., 1.],\n",
              "        [1., 1., 1., 1.]], dtype=torch.float64)"
            ]
          },
          "metadata": {},
          "execution_count": 31
        }
      ]
    },
    {
      "cell_type": "code",
      "source": [
        "zeros = torch.zeros((2, 4))\n",
        "zeros"
      ],
      "metadata": {
        "colab": {
          "base_uri": "https://localhost:8080/"
        },
        "id": "gCfdbwf47olq",
        "outputId": "b5b791c7-e0c2-4b81-ecc1-3ef20add333f"
      },
      "execution_count": 32,
      "outputs": [
        {
          "output_type": "execute_result",
          "data": {
            "text/plain": [
              "tensor([[0., 0., 0., 0.],\n",
              "        [0., 0., 0., 0.]])"
            ]
          },
          "metadata": {},
          "execution_count": 32
        }
      ]
    },
    {
      "cell_type": "code",
      "source": [
        "new_tensor = torch.rand_like(zeros, dtype=torch.float64)\n",
        "new_tensor"
      ],
      "metadata": {
        "colab": {
          "base_uri": "https://localhost:8080/"
        },
        "id": "G8MTKbnY7tDZ",
        "outputId": "df00cb4f-4153-400c-934f-e3119204fa78"
      },
      "execution_count": 33,
      "outputs": [
        {
          "output_type": "execute_result",
          "data": {
            "text/plain": [
              "tensor([[0.6124, 0.0881, 0.7012, 0.6234],\n",
              "        [0.4373, 0.0747, 0.6834, 0.3122]], dtype=torch.float64)"
            ]
          },
          "metadata": {},
          "execution_count": 33
        }
      ]
    },
    {
      "cell_type": "code",
      "source": [
        "t1 = torch.tensor([1, 2, 3])\n",
        "t2 = torch.tensor([1, 2, 3])\n",
        "\n",
        "t3 = t1.add(t2)\n",
        "t3"
      ],
      "metadata": {
        "colab": {
          "base_uri": "https://localhost:8080/"
        },
        "id": "qfUCVu_E8A-A",
        "outputId": "bcfa028d-31c3-4f8a-da12-8a85be7bb6fc"
      },
      "execution_count": 34,
      "outputs": [
        {
          "output_type": "execute_result",
          "data": {
            "text/plain": [
              "tensor([2, 4, 6])"
            ]
          },
          "metadata": {},
          "execution_count": 34
        }
      ]
    },
    {
      "cell_type": "code",
      "source": [
        "t1, t2"
      ],
      "metadata": {
        "colab": {
          "base_uri": "https://localhost:8080/"
        },
        "id": "2uZjx1McBBU8",
        "outputId": "3675f8ad-ffe5-41b7-cae9-1ad231114d24"
      },
      "execution_count": 35,
      "outputs": [
        {
          "output_type": "execute_result",
          "data": {
            "text/plain": [
              "(tensor([1, 2, 3]), tensor([1, 2, 3]))"
            ]
          },
          "metadata": {},
          "execution_count": 35
        }
      ]
    },
    {
      "cell_type": "code",
      "source": [
        "# inplace addition. Similarly you can do any operation inplace\n",
        "t1.add_(t2)\n",
        "t1"
      ],
      "metadata": {
        "colab": {
          "base_uri": "https://localhost:8080/"
        },
        "id": "pHf35IhtBEXI",
        "outputId": "5d2f142a-523d-44c6-ec1e-0e93883027f5"
      },
      "execution_count": 36,
      "outputs": [
        {
          "output_type": "execute_result",
          "data": {
            "text/plain": [
              "tensor([2, 4, 6])"
            ]
          },
          "metadata": {},
          "execution_count": 36
        }
      ]
    },
    {
      "cell_type": "markdown",
      "source": [
        "# Understanding AutoGrad\n",
        "\n",
        "PyTorch's `autograd` package provides classes and functions implementing automatic differentiation of arbitrary scalar-valued functions. It allows for on-the-fly operation tracking on tensors, where every operation is recorded on a graph. The graph is then used in the backward pass to compute gradients.\n",
        "\n",
        "## Definition of Autograd\n",
        "\n",
        "`autograd` is PyTorch’s automatic differentiation library. It keeps a record of all operations performed on a tensor and creates an acyclic computation graph. This allows the use of back-propagation to calculate the gradients of the weights with respect to the loss function, which is essential when training neural networks.\n",
        "\n",
        "## Importance of Autograd\n",
        "\n",
        "In machine learning, especially in neural networks, optimization of weights is done using gradient information. Gradients point the optimizer in the direction towards which the parameters should be altered for minimizing the loss function. Autograd automates the computation of the backward pass in a computational graph (which are the gradients). Hence, calculation of gradients is performed automatically and accurately.\n",
        "\n",
        "## How Autograd works\n",
        "\n",
        "- When a tensor's `.requires_grad` property is set as `True`, PyTorch starts to track all operations on it.\n",
        "- After the computation is finished, `.backward()` is called and all gradients are computed automatically.\n",
        "- The gradient for a tensor will be accumulated into `.grad` attribute.\n",
        "- To prevent tracking history and the use of memory, `.detach()` is called to stop tracking computations.\n",
        "- Tracking can also be stopped by wrapping the code block inside `with torch.no_grad():`\n",
        "\n",
        "Here is an example demonstrating autograd:\n",
        "\n",
        "```python\n",
        "x = torch.randn(3, 3, requires_grad=True)\n",
        "y = x + 2\n",
        "z = y * y * 3\n",
        "out = z.mean()\n",
        "out.backward()  # computes gradients\n",
        "print(x.grad)  # the gradient of 'out' with respect to 'x'\n",
        "```\n",
        "\n",
        "## Conclusion\n",
        "\n",
        "The usage of `autograd` simplifies the computation of gradients in neural networks. By automatically calculating gradients, it reduces the likelihood of making errors in complex neural networks, and hence improves efficiency of the model training phase."
      ],
      "metadata": {
        "id": "2KXQ9qiiBix8"
      }
    },
    {
      "cell_type": "code",
      "source": [
        "x = torch.tensor([1., 2., 3.], requires_grad=True)\n",
        "y = x + 2\n",
        "z = y * y * 3\n",
        "out = z.mean()\n",
        "out\n",
        "\n"
      ],
      "metadata": {
        "colab": {
          "base_uri": "https://localhost:8080/"
        },
        "id": "HZppqQsdBGU1",
        "outputId": "4917a4ce-513f-45cb-f9c7-075aa6a26266"
      },
      "execution_count": 37,
      "outputs": [
        {
          "output_type": "execute_result",
          "data": {
            "text/plain": [
              "tensor(50., grad_fn=<MeanBackward0>)"
            ]
          },
          "metadata": {},
          "execution_count": 37
        }
      ]
    },
    {
      "cell_type": "code",
      "source": [
        "z"
      ],
      "metadata": {
        "colab": {
          "base_uri": "https://localhost:8080/"
        },
        "id": "4-Kox84pcQh2",
        "outputId": "bc23933d-389f-4cbb-cd3d-ee8b25875456"
      },
      "execution_count": 38,
      "outputs": [
        {
          "output_type": "execute_result",
          "data": {
            "text/plain": [
              "tensor([27., 48., 75.], grad_fn=<MulBackward0>)"
            ]
          },
          "metadata": {},
          "execution_count": 38
        }
      ]
    },
    {
      "cell_type": "code",
      "source": [
        "y"
      ],
      "metadata": {
        "colab": {
          "base_uri": "https://localhost:8080/"
        },
        "id": "PiRi2GrWcU9d",
        "outputId": "6ccb54c2-0373-4a74-c945-4455f4a5323d"
      },
      "execution_count": 39,
      "outputs": [
        {
          "output_type": "execute_result",
          "data": {
            "text/plain": [
              "tensor([3., 4., 5.], grad_fn=<AddBackward0>)"
            ]
          },
          "metadata": {},
          "execution_count": 39
        }
      ]
    },
    {
      "cell_type": "code",
      "source": [
        "# this wont work because backword is not yet called\n",
        "print(x.grad)  # the gradient of 'out' with respect to 'x'"
      ],
      "metadata": {
        "colab": {
          "base_uri": "https://localhost:8080/"
        },
        "id": "JYh1B5cSCTaF",
        "outputId": "c4d81a01-2d15-4363-96df-187b81a34d96"
      },
      "execution_count": 40,
      "outputs": [
        {
          "output_type": "stream",
          "name": "stdout",
          "text": [
            "None\n"
          ]
        }
      ]
    },
    {
      "cell_type": "code",
      "source": [
        "# before calling the backward, lets have a look at the grad functions of each\n",
        "\n",
        "y.grad_fn, z.grad_fn, out.grad_fn"
      ],
      "metadata": {
        "colab": {
          "base_uri": "https://localhost:8080/"
        },
        "id": "vLY9xjrPDSZD",
        "outputId": "d983dfde-0fa3-4ac6-9f97-43daad5fafee"
      },
      "execution_count": 41,
      "outputs": [
        {
          "output_type": "execute_result",
          "data": {
            "text/plain": [
              "(<AddBackward0 at 0x799f84f01b70>,\n",
              " <MulBackward0 at 0x799f84f026e0>,\n",
              " <MeanBackward0 at 0x799f84f00820>)"
            ]
          },
          "metadata": {},
          "execution_count": 41
        }
      ]
    },
    {
      "cell_type": "markdown",
      "source": [
        "##The Backward Function\n",
        "\n",
        "The `backward()` function in PyTorch is a critical part of the Autograd system, which is responsible for automatic computation of gradients for various operations on Tensors.\n",
        "\n"
      ],
      "metadata": {
        "id": "EtyZFOWEDkh_"
      }
    },
    {
      "cell_type": "markdown",
      "source": [
        "\n",
        "### Functionality of the `backward()` Function\n",
        "\n",
        "The `backward()` function is primarily used for computing the gradients of the loss with respect to some set of variables (usually the model parameters). It performs backpropagation starting from a variable.\n",
        "\n",
        "Here's how it works:\n",
        "\n",
        "- The `backward()` function computes the gradient/differentiation of the current tensor w.r.t. graph leaves.\n",
        "- The graph is defined by following all the operations from the leaf/leaves to the current tensor.\n",
        "- If the current tensor (`y`) is a scalar (i.e., it holds a one-element data), then you don’t need to specify any arguments to `backward()`. However, if it has more elements, you need to specify a gradient argument that is a tensor of matching shape (to `y`).\n",
        "\n"
      ],
      "metadata": {
        "id": "xKIoxZuQD7db"
      }
    },
    {
      "cell_type": "markdown",
      "source": [
        "### Example of how `backward()` works:\n",
        "\n",
        "Here is a simple example:\n",
        "\n",
        "```python\n",
        "import torch\n",
        "\n",
        "# Create a tensor and set requires_grad=True to track computation with it\n",
        "x = torch.ones(2, 2, requires_grad=True)\n",
        "\n",
        "# Perform a tensor operation\n",
        "y = x + 2\n",
        "\n",
        "# Perform more operations on y\n",
        "z = y * y * 3\n",
        "out = z.mean()\n",
        "\n",
        "# Trigger the backpropagation with backward()\n",
        "out.backward()\n",
        "\n",
        "# Print gradients d(out)/dx\n",
        "print(x.grad)\n",
        "```\n",
        "\n",
        "In the above code:\n",
        "- We first define a tensor `x` with `requires_grad=True` to ensure that the operation should be recorded for gradient computation.\n",
        "- We then perform several operations on `x` to get the output tensor `out`.\n",
        "- Calling the `backward` function triggers backpropagation, computation of the gradient.\n",
        "- Finally, the gradients are available in `x.grad`.\n",
        "\n",
        "### Conclusion\n",
        "\n",
        "The `backward()` function is essential for neural network training. With this function, PyTorch allows automatic and efficient gradient computations. This simplifies the implementation of many machine learning algorithms, making development faster and less error-prone."
      ],
      "metadata": {
        "id": "ol-SmqPtD9XV"
      }
    },
    {
      "cell_type": "code",
      "source": [
        "out.backward( )  # computes gradients\n",
        "print(x.grad)  # the gradient of 'out' with respect to 'x'"
      ],
      "metadata": {
        "colab": {
          "base_uri": "https://localhost:8080/"
        },
        "id": "pTAbZpIDBqGh",
        "outputId": "b3a74644-82df-4bfa-bb3e-67a435e94591"
      },
      "execution_count": 42,
      "outputs": [
        {
          "output_type": "stream",
          "name": "stdout",
          "text": [
            "tensor([ 6.,  8., 10.])\n"
          ]
        }
      ]
    },
    {
      "cell_type": "markdown",
      "source": [
        "#Loss function in pyTorch\n",
        "- [Every loss available in pyTorch](https://pytorch.org/docs/stable/nn.html#loss-functions)"
      ],
      "metadata": {
        "id": "2_cVP2R7GhEj"
      }
    },
    {
      "cell_type": "code",
      "source": [
        "import torch.nn as nn"
      ],
      "metadata": {
        "id": "cnjsnlx7GzUr"
      },
      "execution_count": 44,
      "outputs": []
    },
    {
      "cell_type": "code",
      "source": [
        "#without any reduction\n",
        "loss_mse = nn.MSELoss(reduction=\"none\")\n",
        "input = torch.randn(3, 4, requires_grad=True)\n",
        "target = torch.randn(3, 4)\n",
        "loss = loss_mse(input, target)\n",
        "loss"
      ],
      "metadata": {
        "id": "QoRKcc2kBv_Z",
        "colab": {
          "base_uri": "https://localhost:8080/"
        },
        "outputId": "b24a953e-3229-40b1-d436-447b7bb1f7e0"
      },
      "execution_count": 45,
      "outputs": [
        {
          "output_type": "execute_result",
          "data": {
            "text/plain": [
              "tensor([[2.2424, 1.8387, 1.9646, 0.1659],\n",
              "        [6.6479, 0.1036, 0.0574, 0.0315],\n",
              "        [0.5554, 4.1243, 1.2666, 4.2864]], grad_fn=<MseLossBackward0>)"
            ]
          },
          "metadata": {},
          "execution_count": 45
        }
      ]
    },
    {
      "cell_type": "code",
      "source": [
        "# in general we want to have one single value of the loss\n",
        "loss_mse = nn.MSELoss(reduction=\"sum\")\n",
        "loss = loss_mse(input, target)\n",
        "loss"
      ],
      "metadata": {
        "id": "J8IjlOqDG45N",
        "colab": {
          "base_uri": "https://localhost:8080/"
        },
        "outputId": "e1a29f33-5156-456a-be6b-15d874cb4761"
      },
      "execution_count": 46,
      "outputs": [
        {
          "output_type": "execute_result",
          "data": {
            "text/plain": [
              "tensor(23.2846, grad_fn=<MseLossBackward0>)"
            ]
          },
          "metadata": {},
          "execution_count": 46
        }
      ]
    },
    {
      "cell_type": "code",
      "source": [
        "# in general we want to have one single value of the loss\n",
        "loss_mse = nn.MSELoss(reduction=\"mean\")\n",
        "loss = loss_mse(input, target)\n",
        "loss"
      ],
      "metadata": {
        "id": "NHvi_lbQHuwj",
        "colab": {
          "base_uri": "https://localhost:8080/"
        },
        "outputId": "6d98f437-5bd1-4c24-9a5f-d343e161c72d"
      },
      "execution_count": 47,
      "outputs": [
        {
          "output_type": "execute_result",
          "data": {
            "text/plain": [
              "tensor(1.9404, grad_fn=<MseLossBackward0>)"
            ]
          },
          "metadata": {},
          "execution_count": 47
        }
      ]
    }
  ]
}
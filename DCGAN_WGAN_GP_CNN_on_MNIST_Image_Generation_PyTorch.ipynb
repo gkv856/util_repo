{
  "nbformat": 4,
  "nbformat_minor": 0,
  "metadata": {
    "colab": {
      "provenance": [],
      "gpuType": "T4",
      "authorship_tag": "ABX9TyM2sIMBNc9wDpWhmmVMnklK",
      "include_colab_link": true
    },
    "kernelspec": {
      "name": "python3",
      "display_name": "Python 3"
    },
    "language_info": {
      "name": "python"
    },
    "accelerator": "GPU"
  },
  "cells": [
    {
      "cell_type": "markdown",
      "metadata": {
        "id": "view-in-github",
        "colab_type": "text"
      },
      "source": [
        "<a href=\"https://colab.research.google.com/github/gkv856/util_repo/blob/master/DCGAN_WGAN_GP_CNN_on_MNIST_Image_Generation_PyTorch.ipynb\" target=\"_parent\"><img src=\"https://colab.research.google.com/assets/colab-badge.svg\" alt=\"Open In Colab\"/></a>"
      ]
    },
    {
      "cell_type": "code",
      "execution_count": 1,
      "metadata": {
        "id": "7M3CVfmWp8LJ"
      },
      "outputs": [],
      "source": [
        "import numpy as np\n",
        "import pandas as pd\n",
        "import torch\n",
        "import torch.nn as nn\n",
        "from torch.utils.data import Dataset\n",
        "import torchvision.transforms as T\n",
        "import torchvision.datasets as datasets\n",
        "import matplotlib.pyplot as plt\n",
        "import os"
      ]
    },
    {
      "cell_type": "code",
      "source": [
        "torch.__version__"
      ],
      "metadata": {
        "colab": {
          "base_uri": "https://localhost:8080/",
          "height": 36
        },
        "id": "VwBu5FedqaWH",
        "outputId": "f1da04da-f5de-444a-bb19-793e6cd93f79"
      },
      "execution_count": 2,
      "outputs": [
        {
          "output_type": "execute_result",
          "data": {
            "text/plain": [
              "'2.0.1+cu118'"
            ],
            "application/vnd.google.colaboratory.intrinsic+json": {
              "type": "string"
            }
          },
          "metadata": {},
          "execution_count": 2
        }
      ]
    },
    {
      "cell_type": "code",
      "source": [
        "BS = 256\n",
        "nz = 100"
      ],
      "metadata": {
        "id": "VDGh8x77Zdi8"
      },
      "execution_count": 3,
      "outputs": []
    },
    {
      "cell_type": "code",
      "source": [
        "# Define a transformation to preprocess the data\n",
        "transform = T.Compose([T.ToTensor(), T.Normalize(mean=(0.1307, ), std=(0.3081, ))])\n",
        "\n",
        "# Download and load the MNIST dataset\n",
        "train_dataset = datasets.MNIST(root='./data', train=True, transform=transform, download=True)\n",
        "test_dataset = datasets.MNIST(root='./data', train=False, transform=transform, download=True)\n",
        "\n",
        "# Create data loaders to efficiently load the data in batches\n",
        "\n",
        "train_loader = torch.utils.data.DataLoader(dataset=train_dataset, batch_size=BS, shuffle=True)\n",
        "test_loader = torch.utils.data.DataLoader(dataset=test_dataset, batch_size=BS, shuffle=False)"
      ],
      "metadata": {
        "id": "gxJ46Rqs18Pm",
        "colab": {
          "base_uri": "https://localhost:8080/"
        },
        "outputId": "a4eada0a-0cbc-4004-9430-002daf842daf"
      },
      "execution_count": 4,
      "outputs": [
        {
          "output_type": "stream",
          "name": "stdout",
          "text": [
            "Downloading http://yann.lecun.com/exdb/mnist/train-images-idx3-ubyte.gz\n",
            "Downloading http://yann.lecun.com/exdb/mnist/train-images-idx3-ubyte.gz to ./data/MNIST/raw/train-images-idx3-ubyte.gz\n"
          ]
        },
        {
          "output_type": "stream",
          "name": "stderr",
          "text": [
            "100%|██████████| 9912422/9912422 [00:00<00:00, 99804142.96it/s]\n"
          ]
        },
        {
          "output_type": "stream",
          "name": "stdout",
          "text": [
            "Extracting ./data/MNIST/raw/train-images-idx3-ubyte.gz to ./data/MNIST/raw\n",
            "\n",
            "Downloading http://yann.lecun.com/exdb/mnist/train-labels-idx1-ubyte.gz\n",
            "Downloading http://yann.lecun.com/exdb/mnist/train-labels-idx1-ubyte.gz to ./data/MNIST/raw/train-labels-idx1-ubyte.gz\n"
          ]
        },
        {
          "output_type": "stream",
          "name": "stderr",
          "text": [
            "100%|██████████| 28881/28881 [00:00<00:00, 75662519.57it/s]"
          ]
        },
        {
          "output_type": "stream",
          "name": "stdout",
          "text": [
            "Extracting ./data/MNIST/raw/train-labels-idx1-ubyte.gz to ./data/MNIST/raw\n",
            "\n",
            "Downloading http://yann.lecun.com/exdb/mnist/t10k-images-idx3-ubyte.gz\n",
            "Downloading http://yann.lecun.com/exdb/mnist/t10k-images-idx3-ubyte.gz to ./data/MNIST/raw/t10k-images-idx3-ubyte.gz\n"
          ]
        },
        {
          "output_type": "stream",
          "name": "stderr",
          "text": [
            "\n",
            "100%|██████████| 1648877/1648877 [00:00<00:00, 26806092.31it/s]\n"
          ]
        },
        {
          "output_type": "stream",
          "name": "stdout",
          "text": [
            "Extracting ./data/MNIST/raw/t10k-images-idx3-ubyte.gz to ./data/MNIST/raw\n",
            "\n",
            "Downloading http://yann.lecun.com/exdb/mnist/t10k-labels-idx1-ubyte.gz\n",
            "Downloading http://yann.lecun.com/exdb/mnist/t10k-labels-idx1-ubyte.gz to ./data/MNIST/raw/t10k-labels-idx1-ubyte.gz\n"
          ]
        },
        {
          "output_type": "stream",
          "name": "stderr",
          "text": [
            "100%|██████████| 4542/4542 [00:00<00:00, 14195625.01it/s]"
          ]
        },
        {
          "output_type": "stream",
          "name": "stdout",
          "text": [
            "Extracting ./data/MNIST/raw/t10k-labels-idx1-ubyte.gz to ./data/MNIST/raw\n",
            "\n"
          ]
        },
        {
          "output_type": "stream",
          "name": "stderr",
          "text": [
            "\n"
          ]
        }
      ]
    },
    {
      "cell_type": "code",
      "source": [
        "device = torch.device(\"cuda\" if torch.cuda.is_available() else \"cpu\")\n",
        "device"
      ],
      "metadata": {
        "colab": {
          "base_uri": "https://localhost:8080/"
        },
        "id": "KEGldeUtPaFa",
        "outputId": "5dd6cdfa-02e7-4d43-c9bc-3559ddc2191e"
      },
      "execution_count": 5,
      "outputs": [
        {
          "output_type": "execute_result",
          "data": {
            "text/plain": [
              "device(type='cpu')"
            ]
          },
          "metadata": {},
          "execution_count": 5
        }
      ]
    },
    {
      "cell_type": "code",
      "source": [
        "idx = 4\n",
        "data = train_dataset[idx]\n",
        "img, label = data[0], data[1]\n",
        "print( img[0].max(), img[0].min(), img[0].mean(), img[0].std())\n",
        "print(img.shape,  label)"
      ],
      "metadata": {
        "colab": {
          "base_uri": "https://localhost:8080/"
        },
        "id": "Rzcggj_SCRYi",
        "outputId": "157fb1a4-ec27-4b79-a2e4-92646b174474"
      },
      "execution_count": 6,
      "outputs": [
        {
          "output_type": "stream",
          "name": "stdout",
          "text": [
            "tensor(2.8215) tensor(-0.4242) tensor(-0.0473) tensor(0.9472)\n",
            "torch.Size([1, 28, 28]) 9\n"
          ]
        }
      ]
    },
    {
      "cell_type": "code",
      "source": [
        "for inputs, labels in train_loader:\n",
        "  print(inputs.shape, labels.shape, inputs[0].min(), inputs[0].max())\n",
        "  break"
      ],
      "metadata": {
        "colab": {
          "base_uri": "https://localhost:8080/"
        },
        "id": "NnCkHE-AUytD",
        "outputId": "5b25bde6-31ef-45b6-eb4a-fe053e92fd44"
      },
      "execution_count": 7,
      "outputs": [
        {
          "output_type": "stream",
          "name": "stdout",
          "text": [
            "torch.Size([256, 1, 28, 28]) torch.Size([256]) tensor(-0.4242) tensor(2.8088)\n"
          ]
        }
      ]
    },
    {
      "cell_type": "code",
      "source": [
        "from torchvision.utils import make_grid\n",
        "\n",
        "def visualize_mnist_grid(images,  num_rows=8):\n",
        "\n",
        "    images = images[: num_rows*4]\n",
        "\n",
        "    # print(images.shape)\n",
        "\n",
        "    # Make a grid of images\n",
        "    grid = make_grid(images, nrow=num_rows)\n",
        "\n",
        "    # Denormalize the images (undo the normalization)\n",
        "    grid = grid / 2 + 0.5  # Unnormalize\n",
        "\n",
        "    # Convert the grid to a NumPy array for plotting\n",
        "    grid = grid.numpy()\n",
        "\n",
        "    # Transpose the grid from (C, H, W) to (H, W, C) for Matplotlib\n",
        "    grid = np.transpose(grid, (1, 2, 0))\n",
        "\n",
        "    # Display the grid of images using Matplotlib\n",
        "    plt.imshow(grid)\n",
        "    plt.axis('off')  # Turn off axis labels\n",
        "    plt.show()\n"
      ],
      "metadata": {
        "id": "lcNGDxRPBNoF"
      },
      "execution_count": 8,
      "outputs": []
    },
    {
      "cell_type": "code",
      "source": [
        " # You can change the number of images here\n",
        " # Get a batch of images\n",
        "images, labels = next(iter(train_loader))\n",
        "visualize_mnist_grid(images,  num_rows=8)"
      ],
      "metadata": {
        "colab": {
          "base_uri": "https://localhost:8080/",
          "height": 304
        },
        "id": "51euWnYL-5fy",
        "outputId": "e7c6b09e-6d2d-4dce-b44f-1afd4fff9cce"
      },
      "execution_count": 9,
      "outputs": [
        {
          "output_type": "stream",
          "name": "stderr",
          "text": [
            "WARNING:matplotlib.image:Clipping input data to the valid range for imshow with RGB data ([0..1] for floats or [0..255] for integers).\n"
          ]
        },
        {
          "output_type": "display_data",
          "data": {
            "text/plain": [
              "<Figure size 640x480 with 1 Axes>"
            ],
            "image/png": "[encoded data removed]"
          },
          "metadata": {}
        }
      ]
    },
    {
      "cell_type": "code",
      "source": [
        "def Conv2DTLayer(in_channels, out_channels, kernel_size, stride, padding, act=\"relu\"):\n",
        "    \"\"\"\n",
        "    Create a Convolutional Transpose 2D Layer followed by Batch Normalization and Leaky ReLU activation.\n",
        "\n",
        "    Args:\n",
        "        in_channels (int): Number of input channels (i.e., number of feature maps) for the layer.\n",
        "        out_channels (int): Number of output channels (i.e., number of feature maps) for the layer.\n",
        "        kernel_size (int or tuple): Size of the convolutional kernel. If a single integer is provided, it's treated as a square kernel size.\n",
        "        stride (int or tuple): Stride of the convolution operation. If a single integer is provided, it's treated as the same stride in both dimensions.\n",
        "        padding (int or tuple): Padding to be added to the input feature maps.\n",
        "\n",
        "    Returns:\n",
        "        nn.Sequential: A sequential PyTorch module consisting of the following layers:\n",
        "            - ConvTranspose2d: Convolutional Transpose 2D layer with specified parameters.\n",
        "            - BatchNorm2d: Batch normalization layer applied to the output of the convolution.\n",
        "            - LeakyReLU: Leaky Rectified Linear Unit activation function.\n",
        "\n",
        "    Example:\n",
        "        # Create a Conv2DTLayer with 3 input channels, 64 output channels, a 4x4 kernel, stride of 2, and padding of 1\n",
        "        conv2d_layer = Conv2DTLayer(in_channels=3, out_channels=64, kernel_size=4, stride=2, padding=1)\n",
        "    \"\"\"\n",
        "    if act == \"tanh\":\n",
        "        layer_list = [\n",
        "          nn.ConvTranspose2d(in_channels, out_channels, kernel_size, stride, padding, bias=False),\n",
        "          nn.Tanh(),\n",
        "      ]\n",
        "    else:\n",
        "      layer_list = [\n",
        "          nn.ConvTranspose2d(in_channels, out_channels, kernel_size, stride, padding, bias=False),\n",
        "          nn.BatchNorm2d(out_channels),\n",
        "          nn.LeakyReLU(True),\n",
        "      ]\n",
        "\n",
        "    # Create a sequential model from the layer list\n",
        "    seq_model = nn.Sequential(*layer_list)\n",
        "\n",
        "    return seq_model\n"
      ],
      "metadata": {
        "id": "K2eygFdOhSgl"
      },
      "execution_count": 10,
      "outputs": []
    },
    {
      "cell_type": "code",
      "source": [
        "class Generator(nn.Module):\n",
        "    \"\"\"\n",
        "    A generative neural network model for image synthesis using transposed convolution layers.\n",
        "\n",
        "    Parameters:\n",
        "        nc (int): Number of output channels (e.g., 1 for grayscale, 3 for RGB).\n",
        "        nz (int): Size of the input noise vector.\n",
        "        ngf (int): Number of feature maps in the generator's hidden layers.\n",
        "\n",
        "    Attributes:\n",
        "        network (nn.Sequential): The generator network architecture composed of transposed convolution layers\n",
        "                                 followed by batch normalization and ReLU activation functions.\n",
        "\n",
        "    Methods:\n",
        "        forward(input): Forward pass through the generator network.\n",
        "\n",
        "    Example:\n",
        "        generator = Generator(nc=3, nz=100, ngf=64)\n",
        "        noise_input = torch.randn(1, 100, 1, 1)  # Input noise tensor\n",
        "        fake_image = generator(noise_input)  # Generate a fake image\n",
        "    \"\"\"\n",
        "\n",
        "    def __init__(self, nc=1, nz=100, ngf=32):\n",
        "        \"\"\"\n",
        "        Initialize the Generator object with the specified configuration.\n",
        "\n",
        "        Args:\n",
        "            nc (int, optional): Number of output channels (default is 1).\n",
        "            nz (int, optional): Size of the input noise vector (default is 100).\n",
        "            ngf (int, optional): Number of feature maps in the generator's hidden layers (default is 32).\n",
        "        \"\"\"\n",
        "        super(Generator, self).__init__()\n",
        "\n",
        "\n",
        "        self.network = nn.Sequential(\n",
        "            nn.ConvTranspose2d(nz, ngf*4, 4, 1, 0, bias=False),\n",
        "            nn.BatchNorm2d(ngf*4),\n",
        "            nn.ReLU(True),\n",
        "\n",
        "            nn.ConvTranspose2d(ngf*4, ngf*2, 3, 2, 1, bias=False),\n",
        "            nn.BatchNorm2d(ngf*2),\n",
        "            nn.ReLU(True),\n",
        "\n",
        "            nn.ConvTranspose2d(ngf*2, ngf, 4, 2, 1, bias=False),\n",
        "            nn.BatchNorm2d(ngf),\n",
        "            nn.ReLU(True),\n",
        "\n",
        "            nn.ConvTranspose2d(ngf, nc, 4, 2, 1, bias=False),\n",
        "            nn.Tanh()\n",
        "        )\n",
        "\n",
        "    def forward(self, input):\n",
        "        \"\"\"\n",
        "        Perform a forward pass through the generator network.\n",
        "\n",
        "        Args:\n",
        "            input (torch.Tensor): Input noise tensor of shape (batch_size, nz, 1, 1).\n",
        "\n",
        "        Returns:\n",
        "            torch.Tensor: Generated fake image tensor of shape (batch_size, nc, H, W).\n",
        "        \"\"\"\n",
        "        out = self.network(input)\n",
        "        return out\n"
      ],
      "metadata": {
        "id": "Nr0GytrCzD-S"
      },
      "execution_count": 11,
      "outputs": []
    },
    {
      "cell_type": "code",
      "source": [
        "netG = Generator()\n",
        "netG = netG.to(device)"
      ],
      "metadata": {
        "id": "bavMdoFheGKL"
      },
      "execution_count": 12,
      "outputs": []
    },
    {
      "cell_type": "code",
      "source": [
        "def getNoise(batch_size=BS, nDim=nz):\n",
        "  return torch.randn(batch_size, nDim, 1, 1).to(device)\n",
        "\n",
        "sample_noise = getNoise()\n",
        "sample_noise.shape"
      ],
      "metadata": {
        "colab": {
          "base_uri": "https://localhost:8080/"
        },
        "id": "Em6WmS_qeQbh",
        "outputId": "7d86a178-cd04-457d-84e6-dd245b9e1f76"
      },
      "execution_count": 13,
      "outputs": [
        {
          "output_type": "execute_result",
          "data": {
            "text/plain": [
              "torch.Size([256, 100, 1, 1])"
            ]
          },
          "metadata": {},
          "execution_count": 13
        }
      ]
    },
    {
      "cell_type": "code",
      "source": [
        "from torchsummary import summary\n",
        "summary(netG, input_size=(sample_noise[0].shape))"
      ],
      "metadata": {
        "colab": {
          "base_uri": "https://localhost:8080/"
        },
        "id": "LxWjR5hcAYoQ",
        "outputId": "11401e73-1c94-4595-df3a-5d2cc7325a65"
      },
      "execution_count": 14,
      "outputs": [
        {
          "output_type": "stream",
          "name": "stdout",
          "text": [
            "----------------------------------------------------------------\n",
            "        Layer (type)               Output Shape         Param #\n",
            "================================================================\n",
            "   ConvTranspose2d-1            [-1, 128, 4, 4]         204,800\n",
            "       BatchNorm2d-2            [-1, 128, 4, 4]             256\n",
            "              ReLU-3            [-1, 128, 4, 4]               0\n",
            "   ConvTranspose2d-4             [-1, 64, 7, 7]          73,728\n",
            "       BatchNorm2d-5             [-1, 64, 7, 7]             128\n",
            "              ReLU-6             [-1, 64, 7, 7]               0\n",
            "   ConvTranspose2d-7           [-1, 32, 14, 14]          32,768\n",
            "       BatchNorm2d-8           [-1, 32, 14, 14]              64\n",
            "              ReLU-9           [-1, 32, 14, 14]               0\n",
            "  ConvTranspose2d-10            [-1, 1, 28, 28]             512\n",
            "             Tanh-11            [-1, 1, 28, 28]               0\n",
            "================================================================\n",
            "Total params: 312,256\n",
            "Trainable params: 312,256\n",
            "Non-trainable params: 0\n",
            "----------------------------------------------------------------\n",
            "Input size (MB): 0.00\n",
            "Forward/backward pass size (MB): 0.27\n",
            "Params size (MB): 1.19\n",
            "Estimated Total Size (MB): 1.47\n",
            "----------------------------------------------------------------\n"
          ]
        }
      ]
    },
    {
      "cell_type": "code",
      "source": [
        "fake_imgs = netG(sample_noise)\n",
        "fake_imgs.shape\n",
        "plt.imshow(fake_imgs[0].permute(2, 1, 0).detach().numpy(), cmap=\"gray\")"
      ],
      "metadata": {
        "colab": {
          "base_uri": "https://localhost:8080/",
          "height": 447
        },
        "id": "hA22bMYlSdrN",
        "outputId": "2bc6b9d9-7306-4009-8637-b2a5e53e58f7"
      },
      "execution_count": 15,
      "outputs": [
        {
          "output_type": "execute_result",
          "data": {
            "text/plain": [
              "<matplotlib.image.AxesImage at 0x7b4bbee51d80>"
            ]
          },
          "metadata": {},
          "execution_count": 15
        },
        {
          "output_type": "display_data",
          "data": {
            "text/plain": [
              "<Figure size 640x480 with 1 Axes>"
            ],
            "image/png": "[encoded data removed]"
          },
          "metadata": {}
        }
      ]
    },
    {
      "cell_type": "code",
      "source": [
        "import torch\n",
        "import matplotlib.pyplot as plt\n",
        "from torchvision import datasets, transforms\n",
        "import math\n",
        "import itertools\n",
        "import imageio\n",
        "import natsort\n",
        "from glob import glob\n",
        "\n",
        "def generate_images(epoch, path, fixed_noise, netG, device):\n",
        "\n",
        "    num_test_samples = 16\n",
        "    # Calculate the number of rows and columns for the grid of generated images\n",
        "    size_figure_grid = int(math.sqrt(num_test_samples))\n",
        "\n",
        "    # Initialize the title variable\n",
        "    title = None\n",
        "\n",
        "    netG.eval()\n",
        "\n",
        "    generated_fake_images = netG(fixed_noise)\n",
        "    title = 'DCGAN'\n",
        "\n",
        "\n",
        "    # Create the directory if it does not exist\n",
        "    os.makedirs(path, exist_ok=True)\n",
        "\n",
        "    # Create a figure and axis for displaying the generated images\n",
        "    fig, ax = plt.subplots(size_figure_grid, size_figure_grid, figsize=(6, 6))\n",
        "\n",
        "    # Remove axis labels for all subplots\n",
        "    for i, j in itertools.product(range(size_figure_grid), range(size_figure_grid)):\n",
        "        ax[i, j].get_xaxis().set_visible(False)\n",
        "        ax[i, j].get_yaxis().set_visible(False)\n",
        "\n",
        "    cnt = 0\n",
        "    for k in range(num_test_samples):\n",
        "        i = k // size_figure_grid  # Calculate row index\n",
        "        j = k % size_figure_grid   # Calculate column index\n",
        "        cnt += 1\n",
        "\n",
        "        # Clear the current axis and display the generated image\n",
        "        ax[i, j].cla()\n",
        "        ax[i, j].imshow(generated_fake_images[k].data.cpu().numpy().reshape(28, 28), cmap='Greys')\n",
        "\n",
        "    # Set the label for the figure\n",
        "    label = 'Epoch_{}'.format(epoch + 1)\n",
        "    fig.text(0.5, 0.04, label, ha='center')  # Add label at the bottom\n",
        "    fig.suptitle(title)  # Set the title for the entire figure\n",
        "\n",
        "    # Save the figure with a label as a PNG file\n",
        "    fig.savefig(path + label + '.png')\n",
        "\n",
        "def save_gif(path, fps):\n",
        "\n",
        "    images = glob(path + '*.png')\n",
        "    images = natsort.natsorted(images)\n",
        "    gif = []\n",
        "\n",
        "    for image in images:\n",
        "        gif.append(imageio.imread(image))\n",
        "\n",
        "    imageio.mimsave(path+'animated.gif', gif, fps=fps)\n"
      ],
      "metadata": {
        "id": "HN4gSrX2AiKg"
      },
      "execution_count": 16,
      "outputs": []
    },
    {
      "cell_type": "code",
      "source": [
        "class Discriminator(nn.Module):\n",
        "    def __init__(self, nc=1, ndf=32):\n",
        "        super(Discriminator, self).__init__()\n",
        "        self.network = nn.Sequential(\n",
        "\n",
        "                nn.Conv2d(nc, ndf, 4, 2, 1, bias=False),\n",
        "                nn.LeakyReLU(0.2, inplace=True),\n",
        "                # nn.Dropout(0.3),\n",
        "\n",
        "                nn.Conv2d(ndf, ndf * 2, 4, 2, 1, bias=False),\n",
        "                nn.BatchNorm2d(ndf * 2),\n",
        "                nn.LeakyReLU(0.2, inplace=True),\n",
        "                # nn.Dropout(0.3),\n",
        "\n",
        "                nn.Conv2d(ndf * 2, ndf * 4, 3, 2, 1, bias=False),\n",
        "                nn.BatchNorm2d(ndf * 4),\n",
        "                nn.LeakyReLU(0.2, inplace=True),\n",
        "                # nn.Dropout(0.3),\n",
        "\n",
        "                nn.Conv2d(ndf * 4, 1, 4, 1, 0, bias=False),\n",
        "                nn.Sigmoid()\n",
        "            )\n",
        "    def forward(self, input):\n",
        "        output = self.network(input)\n",
        "        return output.view(-1, 1).squeeze(1)"
      ],
      "metadata": {
        "id": "8q2hXlEF0TPJ"
      },
      "execution_count": 17,
      "outputs": []
    },
    {
      "cell_type": "code",
      "source": [
        "netD = Discriminator()\n",
        "netD = netD.to(device)"
      ],
      "metadata": {
        "id": "qm9fIssiSTtA"
      },
      "execution_count": 18,
      "outputs": []
    },
    {
      "cell_type": "code",
      "source": [
        "summary(netD, input_size=(fake_imgs[0].shape))"
      ],
      "metadata": {
        "colab": {
          "base_uri": "https://localhost:8080/"
        },
        "id": "ufRpBbwKS8yj",
        "outputId": "36b70b6d-790b-4e05-bc01-72dd91fec5e5"
      },
      "execution_count": 19,
      "outputs": [
        {
          "output_type": "stream",
          "name": "stdout",
          "text": [
            "----------------------------------------------------------------\n",
            "        Layer (type)               Output Shape         Param #\n",
            "================================================================\n",
            "            Conv2d-1           [-1, 32, 14, 14]             512\n",
            "         LeakyReLU-2           [-1, 32, 14, 14]               0\n",
            "            Conv2d-3             [-1, 64, 7, 7]          32,768\n",
            "       BatchNorm2d-4             [-1, 64, 7, 7]             128\n",
            "         LeakyReLU-5             [-1, 64, 7, 7]               0\n",
            "            Conv2d-6            [-1, 128, 4, 4]          73,728\n",
            "       BatchNorm2d-7            [-1, 128, 4, 4]             256\n",
            "         LeakyReLU-8            [-1, 128, 4, 4]               0\n",
            "            Conv2d-9              [-1, 1, 1, 1]           2,048\n",
            "          Sigmoid-10              [-1, 1, 1, 1]               0\n",
            "================================================================\n",
            "Total params: 109,440\n",
            "Trainable params: 109,440\n",
            "Non-trainable params: 0\n",
            "----------------------------------------------------------------\n",
            "Input size (MB): 0.00\n",
            "Forward/backward pass size (MB): 0.21\n",
            "Params size (MB): 0.42\n",
            "Estimated Total Size (MB): 0.63\n",
            "----------------------------------------------------------------\n"
          ]
        }
      ]
    },
    {
      "cell_type": "code",
      "source": [
        "outD = netD(fake_imgs)\n",
        "outD.shape, outD[:10]"
      ],
      "metadata": {
        "colab": {
          "base_uri": "https://localhost:8080/"
        },
        "id": "cMPldEn-S572",
        "outputId": "8fcab42f-1c83-4aa5-ce85-9d139ae7be9c"
      },
      "execution_count": 20,
      "outputs": [
        {
          "output_type": "execute_result",
          "data": {
            "text/plain": [
              "(torch.Size([256]),\n",
              " tensor([0.5513, 0.4575, 0.6025, 0.5707, 0.4626, 0.4529, 0.5265, 0.4933, 0.6231,\n",
              "         0.6388], grad_fn=<SliceBackward0>))"
            ]
          },
          "metadata": {},
          "execution_count": 20
        }
      ]
    },
    {
      "cell_type": "code",
      "source": [
        "def generator_loss(fake_scores):\n",
        "    # The generator's loss is the negation of the mean discriminator scores for fake samples.\n",
        "    return -torch.mean(fake_scores)\n"
      ],
      "metadata": {
        "id": "PJ1VlIxsWlc2"
      },
      "execution_count": 21,
      "outputs": []
    },
    {
      "cell_type": "code",
      "source": [
        "import torch\n",
        "import torch.autograd as autograd\n",
        "\n",
        "def calc_gradient_penalty(discriminator, real_samples, fake_samples, device):\n",
        "    # Generate random weights for interpolation between real and fake samples.\n",
        "    alpha = torch.rand(real_samples.size(0), 1, 1, 1, device=device)\n",
        "\n",
        "    # Create interpolated samples by combining real and fake samples.\n",
        "    interpolated = (alpha * real_samples + (1 - alpha) * fake_samples).requires_grad_(True)\n",
        "\n",
        "    # Pass interpolated samples through the discriminator.\n",
        "    interpolated_scores = discriminator(interpolated)\n",
        "\n",
        "    # Compute gradients of the scores with respect to the interpolated samples.\n",
        "    gradients = autograd.grad(outputs=interpolated_scores, inputs=interpolated,\n",
        "                              grad_outputs=torch.ones(interpolated_scores.size(), device=device),\n",
        "                              create_graph=True, retain_graph=True)[0]\n",
        "\n",
        "    # Calculate the gradient penalty as the L2 norm of the gradients.\n",
        "    gradient_penalty = ((gradients.norm(2, dim=1) - 1) ** 2).mean()\n",
        "\n",
        "    return gradient_penalty\n"
      ],
      "metadata": {
        "id": "Hg4lw7JlWzqK"
      },
      "execution_count": 22,
      "outputs": []
    },
    {
      "cell_type": "code",
      "source": [
        "def discriminator_loss(real_scores, fake_scores, gradient_penalty, lambda_gp=10):\n",
        "    # The Wasserstein distance between real and fake distributions.\n",
        "    wasserstein_distance = torch.mean(real_scores) - torch.mean(fake_scores)\n",
        "\n",
        "    # Discriminator loss is the negation of the Wasserstein distance plus the gradient penalty term.\n",
        "    loss = -wasserstein_distance + lambda_gp * gradient_penalty\n",
        "\n",
        "    return loss"
      ],
      "metadata": {
        "id": "WxhiDS_kUMdc"
      },
      "execution_count": 23,
      "outputs": []
    },
    {
      "cell_type": "code",
      "source": [
        "epochs, noise_dim = 100, 100\n",
        "epochs, BS, noise_dim"
      ],
      "metadata": {
        "colab": {
          "base_uri": "https://localhost:8080/"
        },
        "id": "CxY1sQMG-HnE",
        "outputId": "12d1b309-983f-4d03-a750-47608bcaebb2"
      },
      "execution_count": 24,
      "outputs": [
        {
          "output_type": "execute_result",
          "data": {
            "text/plain": [
              "(100, 256, 100)"
            ]
          },
          "metadata": {},
          "execution_count": 24
        }
      ]
    },
    {
      "cell_type": "code",
      "source": [
        "fixed_noise = getNoise()\n",
        "path = \"./gifs/\""
      ],
      "metadata": {
        "id": "AfNpBYc5AqTz"
      },
      "execution_count": 25,
      "outputs": []
    },
    {
      "cell_type": "code",
      "source": [
        "import torchvision.utils as vutils"
      ],
      "metadata": {
        "id": "WqbW2JdXXx3q"
      },
      "execution_count": 26,
      "outputs": []
    },
    {
      "cell_type": "code",
      "source": [
        "\n",
        "netG = Generator().to(device)\n",
        "netD = Discriminator().to(device)\n",
        "\n",
        "epochs = 100\n",
        "noise_dim = 100\n",
        "\n",
        "lrG = 0.0001\n",
        "lrD = 0.0001\n",
        "optimizer_G = torch.optim.Adam(netG.parameters(), lr=lrG, betas=(0.5, 0.999))\n",
        "optimizer_D = torch.optim.Adam(netD.parameters(), lr=lrD, betas=(0.5, 0.999))\n",
        "\n",
        "num_batches = len(train_loader)\n",
        "print_every = num_batches // 10  # Print a dot every 10% completion\n",
        "\n",
        "real_label = 1.\n",
        "fake_label = 0.\n",
        "\n",
        "netG.train()\n",
        "netD.train()\n",
        "\n",
        "fixed_noise = getNoise()\n",
        "\n",
        "\n",
        "# Training loop\n",
        "for epoch in range(epochs):\n",
        "  for i, (imgs, _) in enumerate(train_loader):\n",
        "    real_samples = imgs.to(device)  # Move real samples to GPU if available\n",
        "    curr_bs = real_samples.size(0)\n",
        "\n",
        "    # Update Discriminator\n",
        "    optimizer_D.zero_grad()\n",
        "\n",
        "    # Generate fake samples from the generator\n",
        "    noise = getNoise(curr_bs)\n",
        "    fake_samples = netG(noise)\n",
        "\n",
        "    # Compute discriminator scores for real and fake samples\n",
        "    real_scores = netD(real_samples)\n",
        "    fake_scores = netD(fake_samples.detach())\n",
        "\n",
        "    # Calculate the gradient penalty\n",
        "    gradient_penalty = calc_gradient_penalty(netD, real_samples, fake_samples, device)\n",
        "\n",
        "    # Calculate discriminator loss\n",
        "    d_loss = discriminator_loss(real_scores, fake_scores, gradient_penalty)\n",
        "\n",
        "    # Update discriminator weights\n",
        "    d_loss.backward()\n",
        "    optimizer_D.step()\n",
        "\n",
        "    # Update Generator\n",
        "    optimizer_G.zero_grad()\n",
        "\n",
        "    # Generate fake samples again (updated)\n",
        "    noise = getNoise(curr_bs)\n",
        "    fake_samples = netG(noise)\n",
        "\n",
        "    # Compute discriminator scores for the updated fake samples\n",
        "    fake_scores = netD(fake_samples)\n",
        "\n",
        "    # Calculate generator loss\n",
        "    g_loss = generator_loss(fake_scores)\n",
        "\n",
        "    # Update generator weights\n",
        "    g_loss.backward()\n",
        "    optimizer_G.step()\n",
        "\n",
        "\n",
        "    if i == 0:\n",
        "        print(f\"\\nEpoch [{epoch+1}/{epochs}]\", end='', flush=True)\n",
        "\n",
        "    if (i + 1) % print_every == 0:\n",
        "        print('.', end='', flush=True)\n",
        "\n",
        "  print(f\"\\td_loss: {d_loss.item():.4f}, g_loss: {g_loss.item():.4f}\")\n",
        "\n",
        "  # Save generated images at the end of each epoch\n",
        "\n",
        "  netG.eval()\n",
        "  generate_images(epoch, path, fixed_noise, netG, device)\n",
        "  if (epoch+1) % 5 == 0:\n",
        "    noise = getNoise()\n",
        "    gen_imgs = netG(noise)\n",
        "    visualize_mnist_grid(gen_imgs.cpu(),  num_rows=8)\n",
        "\n",
        "\n",
        "  with torch.no_grad():\n",
        "      fake_samples = netG(fixed_noise)  # Use fixed noise to generate consistent images\n",
        "  vutils.save_image(fake_samples, 'fake_samples_epoch_%03d.png' % (epoch + 1), normalize=True)\n",
        "\n",
        "  netG.train()\n",
        "\n",
        "save_gif(path, 25)\n"
      ],
      "metadata": {
        "colab": {
          "base_uri": "https://localhost:8080/",
          "height": 425
        },
        "id": "0VvKFm7Kfw7C",
        "outputId": "e379c004-db2c-4f12-fb3b-b22d88c1671c"
      },
      "execution_count": 27,
      "outputs": [
        {
          "output_type": "stream",
          "name": "stdout",
          "text": [
            "\n",
            "Epoch [1/100]"
          ]
        },
        {
          "output_type": "error",
          "ename": "KeyboardInterrupt",
          "evalue": "ignored",
          "traceback": [
            "\u001b[0;31m---------------------------------------------------------------------------\u001b[0m",
            "\u001b[0;31mKeyboardInterrupt\u001b[0m                         Traceback (most recent call last)",
            "\u001b[0;32m<ipython-input-27-1be639230e7b>\u001b[0m in \u001b[0;36m<cell line: 25>\u001b[0;34m()\u001b[0m\n\u001b[1;32m     46\u001b[0m \u001b[0;34m\u001b[0m\u001b[0m\n\u001b[1;32m     47\u001b[0m     \u001b[0;31m# Update discriminator weights\u001b[0m\u001b[0;34m\u001b[0m\u001b[0;34m\u001b[0m\u001b[0m\n\u001b[0;32m---> 48\u001b[0;31m     \u001b[0md_loss\u001b[0m\u001b[0;34m.\u001b[0m\u001b[0mbackward\u001b[0m\u001b[0;34m(\u001b[0m\u001b[0;34m)\u001b[0m\u001b[0;34m\u001b[0m\u001b[0;34m\u001b[0m\u001b[0m\n\u001b[0m\u001b[1;32m     49\u001b[0m     \u001b[0moptimizer_D\u001b[0m\u001b[0;34m.\u001b[0m\u001b[0mstep\u001b[0m\u001b[0;34m(\u001b[0m\u001b[0;34m)\u001b[0m\u001b[0;34m\u001b[0m\u001b[0;34m\u001b[0m\u001b[0m\n\u001b[1;32m     50\u001b[0m \u001b[0;34m\u001b[0m\u001b[0m\n",
            "\u001b[0;32m/usr/local/lib/python3.10/dist-packages/torch/_tensor.py\u001b[0m in \u001b[0;36mbackward\u001b[0;34m(self, gradient, retain_graph, create_graph, inputs)\u001b[0m\n\u001b[1;32m    485\u001b[0m                 \u001b[0minputs\u001b[0m\u001b[0;34m=\u001b[0m\u001b[0minputs\u001b[0m\u001b[0;34m,\u001b[0m\u001b[0;34m\u001b[0m\u001b[0;34m\u001b[0m\u001b[0m\n\u001b[1;32m    486\u001b[0m             )\n\u001b[0;32m--> 487\u001b[0;31m         torch.autograd.backward(\n\u001b[0m\u001b[1;32m    488\u001b[0m             \u001b[0mself\u001b[0m\u001b[0;34m,\u001b[0m \u001b[0mgradient\u001b[0m\u001b[0;34m,\u001b[0m \u001b[0mretain_graph\u001b[0m\u001b[0;34m,\u001b[0m \u001b[0mcreate_graph\u001b[0m\u001b[0;34m,\u001b[0m \u001b[0minputs\u001b[0m\u001b[0;34m=\u001b[0m\u001b[0minputs\u001b[0m\u001b[0;34m\u001b[0m\u001b[0;34m\u001b[0m\u001b[0m\n\u001b[1;32m    489\u001b[0m         )\n",
            "\u001b[0;32m/usr/local/lib/python3.10/dist-packages/torch/autograd/__init__.py\u001b[0m in \u001b[0;36mbackward\u001b[0;34m(tensors, grad_tensors, retain_graph, create_graph, grad_variables, inputs)\u001b[0m\n\u001b[1;32m    198\u001b[0m     \u001b[0;31m# some Python versions print out the first line of a multi-line function\u001b[0m\u001b[0;34m\u001b[0m\u001b[0;34m\u001b[0m\u001b[0m\n\u001b[1;32m    199\u001b[0m     \u001b[0;31m# calls in the traceback and some print out the last line\u001b[0m\u001b[0;34m\u001b[0m\u001b[0;34m\u001b[0m\u001b[0m\n\u001b[0;32m--> 200\u001b[0;31m     Variable._execution_engine.run_backward(  # Calls into the C++ engine to run the backward pass\n\u001b[0m\u001b[1;32m    201\u001b[0m         \u001b[0mtensors\u001b[0m\u001b[0;34m,\u001b[0m \u001b[0mgrad_tensors_\u001b[0m\u001b[0;34m,\u001b[0m \u001b[0mretain_graph\u001b[0m\u001b[0;34m,\u001b[0m \u001b[0mcreate_graph\u001b[0m\u001b[0;34m,\u001b[0m \u001b[0minputs\u001b[0m\u001b[0;34m,\u001b[0m\u001b[0;34m\u001b[0m\u001b[0;34m\u001b[0m\u001b[0m\n\u001b[1;32m    202\u001b[0m         allow_unreachable=True, accumulate_grad=True)  # Calls into the C++ engine to run the backward pass\n",
            "\u001b[0;31mKeyboardInterrupt\u001b[0m: "
          ]
        }
      ]
    },
    {
      "cell_type": "code",
      "source": [
        "\n",
        "# for epoch in range(epochs):\n",
        "#     for i, (real_images, _) in enumerate(train_loader):\n",
        "\n",
        "#       bs = real_images.shape[0]\n",
        "#       ##############################\n",
        "#       #   Training discriminator   #\n",
        "#       ##############################\n",
        "\n",
        "#       netD.zero_grad()\n",
        "#       real_images = real_images.to(device)\n",
        "#       label = torch.full((bs,), real_label, device=device)\n",
        "\n",
        "#       output = netD(real_images)\n",
        "#       lossD_real = criterion(output, label)\n",
        "#       lossD_real.backward()\n",
        "#       D_x = output.mean().item()\n",
        "\n",
        "#       noise = torch.randn(bs, 100, 1, 1, device=device)\n",
        "#       fake_images = netG(noise)\n",
        "#       label.fill_(fake_label)\n",
        "#       output = netD(fake_images.detach())\n",
        "#       lossD_fake = criterion(output, label)\n",
        "#       lossD_fake.backward()\n",
        "#       D_G_z1 = output.mean().item()\n",
        "#       lossD = lossD_real + lossD_fake\n",
        "#       optimizerD.step()\n",
        "\n",
        "#       ##########################\n",
        "#       #   Training generator   #\n",
        "#       ##########################\n",
        "\n",
        "#       netG.zero_grad()\n",
        "#       label.fill_(real_label)\n",
        "\n",
        "\n",
        "#       output = netD(fake_images)\n",
        "#       lossG = criterion(output, label)\n",
        "#       lossG.backward()\n",
        "#       D_G_z2 = output.mean().item()\n",
        "#       optimizerG.step()\n",
        "\n",
        "\n",
        "\n",
        "#       if i == 0:\n",
        "#         print(f\"\\nEpoch [{epoch+1}/{epochs}]\", end='', flush=True)\n",
        "\n",
        "#       if (i + 1) % print_every == 0:\n",
        "#           print('.', end='', flush=True)\n",
        "\n",
        "#     print(f\"\\td_loss: {lossD.item():.4f}, g_loss: {lossG.item():.4f}\")\n",
        "\n",
        "#     netG.eval()\n",
        "#     generate_images(epoch, path, fixed_noise, netG, device)\n",
        "#     netG.train()\n",
        "\n",
        "#     if (epoch+1) % 5 == 0:\n",
        "#         netG.eval()\n",
        "#         noise = getNoise()\n",
        "#         gen_imgs = netG(noise)\n",
        "#         visualize_mnist_grid(gen_imgs.cpu(),  num_rows=8)\n",
        "#         # visualize_mnist_grid(real_images.cpu(), torch.ones_like(gen_imgs).cpu(), num_rows=8)\n",
        "\n",
        "#         netG.train()\n",
        "\n",
        "# save_gif(path, 30)"
      ],
      "metadata": {
        "id": "IbmPuXb8aObz"
      },
      "execution_count": null,
      "outputs": []
    },
    {
      "cell_type": "code",
      "source": [
        "# noise = torch.randn((BS, noise_dim, 1, 1))\n",
        "noise = getNoise()\n",
        "imgs = netG(noise)\n",
        "\n",
        "# gen_imgs = gen_model(noise)\n",
        "visualize_mnist_grid(imgs.cpu(),  num_rows=8)"
      ],
      "metadata": {
        "id": "paoIQCOACvuG"
      },
      "execution_count": null,
      "outputs": []
    },
    {
      "cell_type": "code",
      "source": [
        "imgs[0].min(), imgs[0].max(), imgs[0].shape"
      ],
      "metadata": {
        "id": "wRQ-WjWumiSk"
      },
      "execution_count": null,
      "outputs": []
    }
  ]
}